{
  "cells": [
    {
      "cell_type": "markdown",
      "id": "6e0e97c1-2b1a-4f38-a94b-d3c6f54dc23c",
      "metadata": {
        "id": "6e0e97c1-2b1a-4f38-a94b-d3c6f54dc23c"
      },
      "source": [
        "<a href=\"https://colab.research.google.com/github/UCREL/pymusas_notebook/blob/main/PyMUSAS.ipynb\" target=\"_parent\"><img src=\"https://colab.research.google.com/assets/colab-badge.svg\" alt=\"Open In Colab\"/></a>"
      ]
    },
    {
      "cell_type": "markdown",
      "id": "bb489229-235c-4b47-a2d6-4ad1aaa3f742",
      "metadata": {
        "id": "bb489229-235c-4b47-a2d6-4ad1aaa3f742"
      },
      "source": [
        "## Tag Text"
      ]
    },
    {
      "cell_type": "markdown",
      "id": "41834fbb-0eab-4fa3-8130-c58883335a0f",
      "metadata": {
        "id": "41834fbb-0eab-4fa3-8130-c58883335a0f"
      },
      "source": [
        "In this guide we are going to show you how to tag text using the PyMUSAS RuleBasedTagger so that you can extract token level USAS semantic tags from the tagged text. The guide is broken down into different languages, for each guide we are going to:\n",
        "\n",
        "1. Download the relevant pre-configured PyMUSAS RuleBasedTagger spaCy component for the language.\n",
        "2. Download and use a Natural Language Processing (NLP) pipeline that will tokenise, lemmatise, and Part Of Speech (POS) tag. In most cases this will be a spaCy pipeline. Note that the PyMUSAS RuleBasedTagger only requires at minimum the data to be tokenised but having the lemma and POS tag will improve the accuracy of the tagging of the text.\n",
        "3. Run the PyMUSAS RuleBasedTagger.\n",
        "4. Extract token level linguistic information from the tagged text, which will include USAS semantic tags.\n",
        "5. For Chinese, Italian, Portuguese, Spanish, Welsh, and English taggers which support Multi Word Expression (MWE) identification and tagging we will show how to extract this information from the tagged text as well."
      ]
    },
    {
      "cell_type": "markdown",
      "id": "606a7b74-e1da-4993-8f3b-2e78350c41e8",
      "metadata": {
        "id": "606a7b74-e1da-4993-8f3b-2e78350c41e8"
      },
      "source": [
        "### Tagging English text (single sentence)\n",
        "\n",
        "**Note** for guides on tagging text in other languages please see the PyMUSAS how to guide which can be found at this [link.](https://ucrel.github.io/pymusas/usage/how_to/tag_text)"
      ]
    },
    {
      "cell_type": "markdown",
      "id": "f7efa9e0-481b-4ac3-9527-904fd7a17485",
      "metadata": {
        "id": "f7efa9e0-481b-4ac3-9527-904fd7a17485"
      },
      "source": [
        "First download both the English PyMUSAS RuleBasedTagger spaCy component and the small English spaCy model:"
      ]
    },
    {
      "cell_type": "markdown",
      "id": "181c1149-bc09-4106-8ffd-169fac516bb7",
      "metadata": {
        "id": "181c1149-bc09-4106-8ffd-169fac516bb7"
      },
      "source": [
        "First we need to download the English PyMUSAS RuleBasedTagger spaCy component which will require using `pip install` to install the required package.  "
      ]
    },
    {
      "cell_type": "code",
      "execution_count": 1,
      "id": "15f6cd49-68bf-4065-b278-1b0c193a6041",
      "metadata": {
        "scrolled": true,
        "tags": [],
        "id": "15f6cd49-68bf-4065-b278-1b0c193a6041",
        "outputId": "8fc9e742-fac6-409d-d3a2-67b96979e529",
        "colab": {
          "base_uri": "https://localhost:8080/"
        }
      },
      "outputs": [
        {
          "output_type": "stream",
          "name": "stdout",
          "text": [
            "Collecting en-dual-none-contextual==0.3.3\n",
            "  Downloading https://github.com/UCREL/pymusas-models/releases/download/en_dual_none_contextual-0.3.3/en_dual_none_contextual-0.3.3-py3-none-any.whl (902 kB)\n",
            "\u001b[2K     \u001b[90m━━━━━━━━━━━━━━━━━━━━━━━━━━━━━━━━━━━━━━\u001b[0m \u001b[32m902.0/902.0 kB\u001b[0m \u001b[31m11.3 MB/s\u001b[0m eta \u001b[36m0:00:00\u001b[0m\n",
            "\u001b[?25hRequirement already satisfied: spacy<4.0,>=3.0 in /usr/local/lib/python3.11/dist-packages (from en-dual-none-contextual==0.3.3) (3.8.7)\n",
            "Requirement already satisfied: pymusas<0.4.0,>=0.3.0 in /usr/local/lib/python3.11/dist-packages (from en-dual-none-contextual==0.3.3) (0.3.0)\n",
            "Requirement already satisfied: srsly<3.0.0,>=2.4.1 in /usr/local/lib/python3.11/dist-packages (from pymusas<0.4.0,>=0.3.0->en-dual-none-contextual==0.3.3) (2.5.1)\n",
            "Requirement already satisfied: tqdm<5.0.0,>=4.50.0 in /usr/local/lib/python3.11/dist-packages (from pymusas<0.4.0,>=0.3.0->en-dual-none-contextual==0.3.3) (4.67.1)\n",
            "Requirement already satisfied: requests<3.0.0,>=2.13.0 in /usr/local/lib/python3.11/dist-packages (from pymusas<0.4.0,>=0.3.0->en-dual-none-contextual==0.3.3) (2.32.3)\n",
            "Requirement already satisfied: click<8.1.0 in /usr/local/lib/python3.11/dist-packages (from pymusas<0.4.0,>=0.3.0->en-dual-none-contextual==0.3.3) (8.0.4)\n",
            "Requirement already satisfied: spacy-legacy<3.1.0,>=3.0.11 in /usr/local/lib/python3.11/dist-packages (from spacy<4.0,>=3.0->en-dual-none-contextual==0.3.3) (3.0.12)\n",
            "Requirement already satisfied: spacy-loggers<2.0.0,>=1.0.0 in /usr/local/lib/python3.11/dist-packages (from spacy<4.0,>=3.0->en-dual-none-contextual==0.3.3) (1.0.5)\n",
            "Requirement already satisfied: murmurhash<1.1.0,>=0.28.0 in /usr/local/lib/python3.11/dist-packages (from spacy<4.0,>=3.0->en-dual-none-contextual==0.3.3) (1.0.13)\n",
            "Requirement already satisfied: cymem<2.1.0,>=2.0.2 in /usr/local/lib/python3.11/dist-packages (from spacy<4.0,>=3.0->en-dual-none-contextual==0.3.3) (2.0.11)\n",
            "Requirement already satisfied: preshed<3.1.0,>=3.0.2 in /usr/local/lib/python3.11/dist-packages (from spacy<4.0,>=3.0->en-dual-none-contextual==0.3.3) (3.0.10)\n",
            "Requirement already satisfied: thinc<8.4.0,>=8.3.4 in /usr/local/lib/python3.11/dist-packages (from spacy<4.0,>=3.0->en-dual-none-contextual==0.3.3) (8.3.6)\n",
            "Requirement already satisfied: wasabi<1.2.0,>=0.9.1 in /usr/local/lib/python3.11/dist-packages (from spacy<4.0,>=3.0->en-dual-none-contextual==0.3.3) (1.1.3)\n",
            "Requirement already satisfied: catalogue<2.1.0,>=2.0.6 in /usr/local/lib/python3.11/dist-packages (from spacy<4.0,>=3.0->en-dual-none-contextual==0.3.3) (2.0.10)\n",
            "Requirement already satisfied: weasel<0.5.0,>=0.1.0 in /usr/local/lib/python3.11/dist-packages (from spacy<4.0,>=3.0->en-dual-none-contextual==0.3.3) (0.4.1)\n",
            "Requirement already satisfied: typer<1.0.0,>=0.3.0 in /usr/local/lib/python3.11/dist-packages (from spacy<4.0,>=3.0->en-dual-none-contextual==0.3.3) (0.16.0)\n",
            "Requirement already satisfied: numpy>=1.19.0 in /usr/local/lib/python3.11/dist-packages (from spacy<4.0,>=3.0->en-dual-none-contextual==0.3.3) (2.0.2)\n",
            "Requirement already satisfied: pydantic!=1.8,!=1.8.1,<3.0.0,>=1.7.4 in /usr/local/lib/python3.11/dist-packages (from spacy<4.0,>=3.0->en-dual-none-contextual==0.3.3) (2.11.7)\n",
            "Requirement already satisfied: jinja2 in /usr/local/lib/python3.11/dist-packages (from spacy<4.0,>=3.0->en-dual-none-contextual==0.3.3) (3.1.6)\n",
            "Requirement already satisfied: setuptools in /usr/local/lib/python3.11/dist-packages (from spacy<4.0,>=3.0->en-dual-none-contextual==0.3.3) (75.2.0)\n",
            "Requirement already satisfied: packaging>=20.0 in /usr/local/lib/python3.11/dist-packages (from spacy<4.0,>=3.0->en-dual-none-contextual==0.3.3) (24.2)\n",
            "Requirement already satisfied: langcodes<4.0.0,>=3.2.0 in /usr/local/lib/python3.11/dist-packages (from spacy<4.0,>=3.0->en-dual-none-contextual==0.3.3) (3.5.0)\n",
            "Requirement already satisfied: language-data>=1.2 in /usr/local/lib/python3.11/dist-packages (from langcodes<4.0.0,>=3.2.0->spacy<4.0,>=3.0->en-dual-none-contextual==0.3.3) (1.3.0)\n",
            "Requirement already satisfied: annotated-types>=0.6.0 in /usr/local/lib/python3.11/dist-packages (from pydantic!=1.8,!=1.8.1,<3.0.0,>=1.7.4->spacy<4.0,>=3.0->en-dual-none-contextual==0.3.3) (0.7.0)\n",
            "Requirement already satisfied: pydantic-core==2.33.2 in /usr/local/lib/python3.11/dist-packages (from pydantic!=1.8,!=1.8.1,<3.0.0,>=1.7.4->spacy<4.0,>=3.0->en-dual-none-contextual==0.3.3) (2.33.2)\n",
            "Requirement already satisfied: typing-extensions>=4.12.2 in /usr/local/lib/python3.11/dist-packages (from pydantic!=1.8,!=1.8.1,<3.0.0,>=1.7.4->spacy<4.0,>=3.0->en-dual-none-contextual==0.3.3) (4.14.0)\n",
            "Requirement already satisfied: typing-inspection>=0.4.0 in /usr/local/lib/python3.11/dist-packages (from pydantic!=1.8,!=1.8.1,<3.0.0,>=1.7.4->spacy<4.0,>=3.0->en-dual-none-contextual==0.3.3) (0.4.1)\n",
            "Requirement already satisfied: charset-normalizer<4,>=2 in /usr/local/lib/python3.11/dist-packages (from requests<3.0.0,>=2.13.0->pymusas<0.4.0,>=0.3.0->en-dual-none-contextual==0.3.3) (3.4.2)\n",
            "Requirement already satisfied: idna<4,>=2.5 in /usr/local/lib/python3.11/dist-packages (from requests<3.0.0,>=2.13.0->pymusas<0.4.0,>=0.3.0->en-dual-none-contextual==0.3.3) (3.10)\n",
            "Requirement already satisfied: urllib3<3,>=1.21.1 in /usr/local/lib/python3.11/dist-packages (from requests<3.0.0,>=2.13.0->pymusas<0.4.0,>=0.3.0->en-dual-none-contextual==0.3.3) (2.4.0)\n",
            "Requirement already satisfied: certifi>=2017.4.17 in /usr/local/lib/python3.11/dist-packages (from requests<3.0.0,>=2.13.0->pymusas<0.4.0,>=0.3.0->en-dual-none-contextual==0.3.3) (2025.6.15)\n",
            "Requirement already satisfied: blis<1.4.0,>=1.3.0 in /usr/local/lib/python3.11/dist-packages (from thinc<8.4.0,>=8.3.4->spacy<4.0,>=3.0->en-dual-none-contextual==0.3.3) (1.3.0)\n",
            "Requirement already satisfied: confection<1.0.0,>=0.0.1 in /usr/local/lib/python3.11/dist-packages (from thinc<8.4.0,>=8.3.4->spacy<4.0,>=3.0->en-dual-none-contextual==0.3.3) (0.1.5)\n",
            "Requirement already satisfied: shellingham>=1.3.0 in /usr/local/lib/python3.11/dist-packages (from typer<1.0.0,>=0.3.0->spacy<4.0,>=3.0->en-dual-none-contextual==0.3.3) (1.5.4)\n",
            "Requirement already satisfied: rich>=10.11.0 in /usr/local/lib/python3.11/dist-packages (from typer<1.0.0,>=0.3.0->spacy<4.0,>=3.0->en-dual-none-contextual==0.3.3) (13.9.4)\n",
            "Requirement already satisfied: cloudpathlib<1.0.0,>=0.7.0 in /usr/local/lib/python3.11/dist-packages (from weasel<0.5.0,>=0.1.0->spacy<4.0,>=3.0->en-dual-none-contextual==0.3.3) (0.21.1)\n",
            "Requirement already satisfied: smart-open<8.0.0,>=5.2.1 in /usr/local/lib/python3.11/dist-packages (from weasel<0.5.0,>=0.1.0->spacy<4.0,>=3.0->en-dual-none-contextual==0.3.3) (7.1.0)\n",
            "Requirement already satisfied: MarkupSafe>=2.0 in /usr/local/lib/python3.11/dist-packages (from jinja2->spacy<4.0,>=3.0->en-dual-none-contextual==0.3.3) (3.0.2)\n",
            "Requirement already satisfied: marisa-trie>=1.1.0 in /usr/local/lib/python3.11/dist-packages (from language-data>=1.2->langcodes<4.0.0,>=3.2.0->spacy<4.0,>=3.0->en-dual-none-contextual==0.3.3) (1.2.1)\n",
            "Requirement already satisfied: markdown-it-py>=2.2.0 in /usr/local/lib/python3.11/dist-packages (from rich>=10.11.0->typer<1.0.0,>=0.3.0->spacy<4.0,>=3.0->en-dual-none-contextual==0.3.3) (3.0.0)\n",
            "Requirement already satisfied: pygments<3.0.0,>=2.13.0 in /usr/local/lib/python3.11/dist-packages (from rich>=10.11.0->typer<1.0.0,>=0.3.0->spacy<4.0,>=3.0->en-dual-none-contextual==0.3.3) (2.19.2)\n",
            "Requirement already satisfied: wrapt in /usr/local/lib/python3.11/dist-packages (from smart-open<8.0.0,>=5.2.1->weasel<0.5.0,>=0.1.0->spacy<4.0,>=3.0->en-dual-none-contextual==0.3.3) (1.17.2)\n",
            "Requirement already satisfied: mdurl~=0.1 in /usr/local/lib/python3.11/dist-packages (from markdown-it-py>=2.2.0->rich>=10.11.0->typer<1.0.0,>=0.3.0->spacy<4.0,>=3.0->en-dual-none-contextual==0.3.3) (0.1.2)\n"
          ]
        }
      ],
      "source": [
        "# Install a pip package in the current Jupyter kernel\n",
        "import sys\n",
        "!{sys.executable} -m pip install https://github.com/UCREL/pymusas-models/releases/download/en_dual_none_contextual-0.3.3/en_dual_none_contextual-0.3.3-py3-none-any.whl\n"
      ]
    },
    {
      "cell_type": "markdown",
      "id": "8a7ce28f-3171-4fb5-8607-889471ffef79",
      "metadata": {
        "id": "8a7ce28f-3171-4fb5-8607-889471ffef79"
      },
      "source": [
        "Now we need to install the small English spaCy model:"
      ]
    },
    {
      "cell_type": "code",
      "execution_count": 2,
      "id": "8de350dd-a5ca-47f3-a33e-6d9c405eacf6",
      "metadata": {
        "scrolled": true,
        "tags": [],
        "id": "8de350dd-a5ca-47f3-a33e-6d9c405eacf6",
        "outputId": "39f0f4b1-3234-4110-c186-36c5800a0fcb",
        "colab": {
          "base_uri": "https://localhost:8080/"
        }
      },
      "outputs": [
        {
          "output_type": "stream",
          "name": "stdout",
          "text": [
            "Collecting en-core-web-sm==3.8.0\n",
            "  Downloading https://github.com/explosion/spacy-models/releases/download/en_core_web_sm-3.8.0/en_core_web_sm-3.8.0-py3-none-any.whl (12.8 MB)\n",
            "\u001b[2K     \u001b[90m━━━━━━━━━━━━━━━━━━━━━━━━━━━━━━━━━━━━━━━━\u001b[0m \u001b[32m12.8/12.8 MB\u001b[0m \u001b[31m46.3 MB/s\u001b[0m eta \u001b[36m0:00:00\u001b[0m\n",
            "\u001b[?25h\u001b[38;5;2m✔ Download and installation successful\u001b[0m\n",
            "You can now load the package via spacy.load('en_core_web_sm')\n",
            "\u001b[38;5;3m⚠ Restart to reload dependencies\u001b[0m\n",
            "If you are in a Jupyter or Colab notebook, you may need to restart Python in\n",
            "order to load all the package's dependencies. You can do this by selecting the\n",
            "'Restart kernel' or 'Restart runtime' option.\n"
          ]
        }
      ],
      "source": [
        "# Install a pip package in the current Jupyter kernel\n",
        "import sys\n",
        "!{sys.executable} -m spacy download en_core_web_sm"
      ]
    },
    {
      "cell_type": "markdown",
      "id": "d0dc66b2-e28c-4375-8944-25249f2584d6",
      "metadata": {
        "id": "d0dc66b2-e28c-4375-8944-25249f2584d6"
      },
      "source": [
        "Now that the modules we need are installed we can create the tagger:"
      ]
    },
    {
      "cell_type": "markdown",
      "id": "337dd275-5f63-4664-8d16-a6dd4631bb8f",
      "metadata": {
        "id": "337dd275-5f63-4664-8d16-a6dd4631bb8f"
      },
      "source": [
        "First we need to import spaCy:"
      ]
    },
    {
      "cell_type": "code",
      "execution_count": 3,
      "id": "91d900bf-10e2-4876-963a-61a423f56741",
      "metadata": {
        "tags": [],
        "id": "91d900bf-10e2-4876-963a-61a423f56741"
      },
      "outputs": [],
      "source": [
        "import spacy"
      ]
    },
    {
      "cell_type": "markdown",
      "id": "f191bdaa-91bc-40a0-925f-9692465312cf",
      "metadata": {
        "id": "f191bdaa-91bc-40a0-925f-9692465312cf"
      },
      "source": [
        "Then we need to exclude some parts of spacy as we do not need then"
      ]
    },
    {
      "cell_type": "code",
      "execution_count": 4,
      "id": "68c82aa9-1ff9-4b64-80d5-2f26791a52fc",
      "metadata": {
        "tags": [],
        "id": "68c82aa9-1ff9-4b64-80d5-2f26791a52fc"
      },
      "outputs": [],
      "source": [
        "nlp = spacy.load('en_core_web_sm', exclude=['parser', 'ner'])"
      ]
    },
    {
      "cell_type": "markdown",
      "id": "2c2aea70-f5a7-41ae-b438-221d029b361f",
      "metadata": {
        "id": "2c2aea70-f5a7-41ae-b438-221d029b361f"
      },
      "source": [
        "We then need to load the English PyMUSAS rule based tagger in a separate spaCy pipeline"
      ]
    },
    {
      "cell_type": "code",
      "execution_count": 5,
      "id": "c8b31029-6a62-44ca-b1b9-cd53c868e8fb",
      "metadata": {
        "tags": [],
        "id": "c8b31029-6a62-44ca-b1b9-cd53c868e8fb"
      },
      "outputs": [],
      "source": [
        "english_tagger_pipeline = spacy.load('en_dual_none_contextual')"
      ]
    },
    {
      "cell_type": "markdown",
      "id": "e5e13d1c-0692-44eb-8a8f-f9f08be7390a",
      "metadata": {
        "id": "e5e13d1c-0692-44eb-8a8f-f9f08be7390a"
      },
      "source": [
        "Notice here that we load \"en_dual_none_contextual\" which matches the name of the pymusas-model that we downloaded earlier.  "
      ]
    },
    {
      "cell_type": "markdown",
      "id": "d5e3f7ad-355a-402c-b85b-88a383008313",
      "metadata": {
        "id": "d5e3f7ad-355a-402c-b85b-88a383008313"
      },
      "source": [
        "We can now add the English PyMUSAS rule based tagger to the main spaCy pipeline as so:"
      ]
    },
    {
      "cell_type": "code",
      "execution_count": 6,
      "id": "7e5a3548-c090-4599-b2e2-4d1fe6e5e6d3",
      "metadata": {
        "tags": [],
        "id": "7e5a3548-c090-4599-b2e2-4d1fe6e5e6d3",
        "outputId": "92850c52-d3f2-4863-b2a8-8e9544563a5c",
        "colab": {
          "base_uri": "https://localhost:8080/"
        }
      },
      "outputs": [
        {
          "output_type": "execute_result",
          "data": {
            "text/plain": [
              "<pymusas.spacy_api.taggers.rule_based.RuleBasedTagger at 0x78d4ad1c07d0>"
            ]
          },
          "metadata": {},
          "execution_count": 6
        }
      ],
      "source": [
        "nlp.add_pipe('pymusas_rule_based_tagger', source=english_tagger_pipeline)"
      ]
    },
    {
      "cell_type": "markdown",
      "id": "dd4843ef-9227-4784-a67e-4825e211193f",
      "metadata": {
        "id": "dd4843ef-9227-4784-a67e-4825e211193f"
      },
      "source": [
        "The tagger is now setup for tagging text through the spaCy pipeline like so (this example follows on from the last). The example text is taken from the English Wikipedia page on the topic of The Nile River, we captilised the n in Northeastern.\n",
        "\n",
        "We will first need to create a sting holding our text and assign it to a variable (`text`).   We then pass this to the spaCy tagger and save the output as (`output_doc`):"
      ]
    },
    {
      "cell_type": "code",
      "execution_count": 7,
      "id": "a2d1abf6-2c82-4b61-8a0f-a919919916ae",
      "metadata": {
        "tags": [],
        "id": "a2d1abf6-2c82-4b61-8a0f-a919919916ae"
      },
      "outputs": [],
      "source": [
        "text = \"The Nile is a major north-flowing river in Northeastern Africa.\"\n",
        "\n",
        "output_doc = nlp(text)"
      ]
    },
    {
      "cell_type": "markdown",
      "id": "c43f519b-448e-4489-bd0e-2b67c0ebece4",
      "metadata": {
        "id": "c43f519b-448e-4489-bd0e-2b67c0ebece4"
      },
      "source": [
        "We have now tagged all the text, but will need to display it.  Each part of the text is a token stored in `output_doc`.  Each token has attributes such as the lemma or POS.  To get all this information we will loop over `output_doc` and print a small table to screen."
      ]
    },
    {
      "cell_type": "code",
      "execution_count": 8,
      "id": "37d4500b-ac3f-4a66-93b4-7f85bb8b2655",
      "metadata": {
        "tags": [],
        "id": "37d4500b-ac3f-4a66-93b4-7f85bb8b2655",
        "outputId": "f87a2252-fb72-4316-d682-033b4b2e7670",
        "colab": {
          "base_uri": "https://localhost:8080/"
        }
      },
      "outputs": [
        {
          "output_type": "stream",
          "name": "stdout",
          "text": [
            "Text\tLemma\tPOS\tUSAS Tags\n",
            "The\tthe\tDET\t['Z5']\n",
            "Nile\tNile\tPROPN\t['Z2']\n",
            "is\tbe\tAUX\t['A3+', 'Z5']\n",
            "a\ta\tDET\t['Z5']\n",
            "major\tmajor\tADJ\t['A11.1+', 'N3.2+']\n",
            "north\tnorth\tNOUN\t['M6']\n",
            "-\t-\tPUNCT\t['PUNCT']\n",
            "flowing\tflow\tVERB\t['M4', 'M1']\n",
            "river\triver\tNOUN\t['W3/M4', 'N5+']\n",
            "in\tin\tADP\t['Z5']\n",
            "Northeastern\tNortheastern\tPROPN\t['Z1mf', 'Z3c']\n",
            "Africa\tAfrica\tPROPN\t['Z1mf', 'Z3c']\n",
            ".\t.\tPUNCT\t['PUNCT']\n"
          ]
        }
      ],
      "source": [
        "print(f'Text\\tLemma\\tPOS\\tUSAS Tags')\n",
        "for token in output_doc:\n",
        "    print(f'{token.text}\\t{token.lemma_}\\t{token.pos_}\\t{token._.pymusas_tags}')"
      ]
    },
    {
      "cell_type": "markdown",
      "id": "923104a4-951a-4b5b-b3b3-c969d64f241e",
      "metadata": {
        "id": "923104a4-951a-4b5b-b3b3-c969d64f241e"
      },
      "source": [
        "In some languages such as English, the tagger can also identify and tag Multi Word Expressions (MWE).  We can see these, in much the same way as the single words above:"
      ]
    },
    {
      "cell_type": "code",
      "execution_count": 9,
      "id": "097f9cb7-1fea-4887-b2e9-c77a55038f51",
      "metadata": {
        "tags": [],
        "id": "097f9cb7-1fea-4887-b2e9-c77a55038f51",
        "outputId": "82691db0-bb65-4eda-9321-6ba781762e9b",
        "colab": {
          "base_uri": "https://localhost:8080/"
        }
      },
      "outputs": [
        {
          "output_type": "stream",
          "name": "stdout",
          "text": [
            "Text\tPOS\tMWE start and end index\tUSAS Tags\n",
            "Northeastern\tPROPN\t(10, 12)\t['Z1mf', 'Z3c']\n",
            "Africa\tPROPN\t(10, 12)\t['Z1mf', 'Z3c']\n"
          ]
        }
      ],
      "source": [
        "print(f'Text\\tPOS\\tMWE start and end index\\tUSAS Tags')\n",
        "\n",
        "for token in output_doc:\n",
        "    start, end = token._.pymusas_mwe_indexes[0]\n",
        "    if (end - start) > 1:\n",
        "        print(f'{token.text}\\t{token.pos_}\\t{(start, end)}\\t{token._.pymusas_tags}')"
      ]
    },
    {
      "cell_type": "markdown",
      "id": "df6a44cf-8281-4386-84c0-760427517870",
      "metadata": {
        "id": "df6a44cf-8281-4386-84c0-760427517870"
      },
      "source": [
        "## Reading from a file"
      ]
    },
    {
      "cell_type": "markdown",
      "id": "da486473-7cec-4530-acff-6cf052f32ea1",
      "metadata": {
        "id": "da486473-7cec-4530-acff-6cf052f32ea1"
      },
      "source": [
        "Reading from a file is much the same as for a string of text like we did above:"
      ]
    },
    {
      "cell_type": "code",
      "execution_count": 10,
      "id": "593f518e-98f7-43de-acf2-5870b90bae53",
      "metadata": {
        "tags": [],
        "id": "593f518e-98f7-43de-acf2-5870b90bae53",
        "outputId": "a2345506-37b4-41aa-bff5-48faeed915a0",
        "colab": {
          "base_uri": "https://localhost:8080/"
        }
      },
      "outputs": [
        {
          "output_type": "stream",
          "name": "stdout",
          "text": [
            "The\tthe\tDET\t['Z5']\n",
            "Nile\tNile\tPROPN\t['Z2']\n",
            "is\tbe\tAUX\t['A3+', 'Z5']\n",
            "a\ta\tDET\t['Z5']\n",
            "major\tmajor\tADJ\t['A11.1+', 'N3.2+']\n",
            "north\tnorth\tNOUN\t['M6']\n",
            "-\t-\tPUNCT\t['PUNCT']\n",
            "flowing\tflow\tVERB\t['M4', 'M1']\n",
            "river\triver\tNOUN\t['W3/M4', 'N5+']\n",
            "in\tin\tADP\t['Z5']\n",
            "northeastern\tnortheastern\tADJ\t['T1.3']\n",
            "Africa\tAfrica\tPROPN\t['T1.3']\n",
            ".\t.\tPUNCT\t['PUNCT']\n",
            "It\tit\tPRON\t['Z8']\n",
            "flows\tflow\tVERB\t['M4', 'M1']\n",
            "into\tinto\tADP\t['Z5']\n",
            "the\tthe\tDET\t['Z5']\n",
            "Mediterranean\tMediterranean\tPROPN\t['Z1mf', 'Z3c']\n",
            "Sea\tSea\tPROPN\t['Z1mf', 'Z3c']\n",
            ".\t.\tPUNCT\t['PUNCT']\n",
            "The\tthe\tDET\t['Z5']\n",
            "Nile\tNile\tPROPN\t['Z2']\n",
            "is\tbe\tAUX\t['A3+', 'Z5']\n",
            "the\tthe\tDET\t['Z5']\n",
            "longest\tlong\tADJ\t['T1.3+++', 'N3.7+++', 'N3.3+++', 'N3.2+++']\n",
            "river\triver\tNOUN\t['W3/M4', 'N5+']\n",
            "in\tin\tADP\t['Z5']\n",
            "Africa\tAfrica\tPROPN\t['Z2']\n",
            "and\tand\tCCONJ\t['Z5']\n",
            "has\thave\tAUX\t['A9+', 'Z5', 'A2.2', 'S4']\n",
            "historically\thistorically\tADV\t['T1.1.1']\n",
            "been\tbe\tAUX\t['A3+', 'Z5']\n",
            "considered\tconsider\tVERB\t['X2.1', 'X2.4', 'X6']\n",
            "the\tthe\tDET\t['Z5']\n",
            "longest\tlong\tADJ\t['T1.3+++', 'N3.7+++', 'N3.3+++', 'N3.2+++']\n",
            "river\triver\tNOUN\t['W3/M4', 'N5+']\n",
            "in\tin\tADP\t['Z5']\n",
            "the\tthe\tDET\t['Z5']\n",
            "world\tworld\tNOUN\t['W1', 'S5+c', 'A4.1', 'N5+']\n",
            ",\t,\tPUNCT\t['PUNCT']\n",
            "though\tthough\tSCONJ\t['Z5']\n",
            "this\tthis\tDET\t['M6', 'Z5', 'Z8']\n",
            "has\thave\tAUX\t['A9+', 'Z5', 'A2.2', 'S4']\n",
            "been\tbe\tAUX\t['A3+', 'Z5']\n",
            "contested\tcontest\tVERB\t['S7.3']\n",
            "by\tby\tADP\t['Z5']\n",
            "research\tresearch\tNOUN\t['X2.4']\n",
            "suggesting\tsuggest\tVERB\t['Q2.2', 'Q1.1']\n",
            "that\tthat\tSCONJ\t['Z5', 'Z8']\n",
            "the\tthe\tDET\t['Z5']\n",
            "Amazon\tAmazon\tPROPN\t['Z1mf', 'Z3c']\n",
            "River\tRiver\tPROPN\t['Z1mf', 'Z3c']\n",
            "is\tbe\tAUX\t['A3+', 'Z5']\n",
            "slightly\tslightly\tADV\t['A13.6']\n",
            "longer\tlong\tADJ\t['T1.3++', 'N3.7++', 'N3.3++', 'N3.2++']\n",
            ".\t.\tPUNCT\t['PUNCT']\n",
            "Of\tof\tADP\t['Z5']\n",
            "the\tthe\tDET\t['Z5']\n",
            "world\tworld\tNOUN\t['W1', 'S5+c', 'A4.1', 'N5+']\n",
            "'s\t's\tPART\t['Z5']\n",
            "major\tmajor\tADJ\t['A11.1+', 'N3.2+']\n",
            "rivers\triver\tNOUN\t['W3/M4', 'N5+']\n",
            ",\t,\tPUNCT\t['PUNCT']\n",
            "the\tthe\tDET\t['Z5']\n",
            "Nile\tNile\tPROPN\t['Z2']\n",
            "is\tbe\tAUX\t['A3+', 'Z5']\n",
            "one\tone\tNUM\t['N1', 'T3', 'T1.2']\n",
            "of\tof\tADP\t['Z5']\n",
            "the\tthe\tDET\t['Z5']\n",
            "smallest\tsmall\tADJ\t['N3.2---', 'N3.7---', 'N5---', 'T3---', 'A11.1---', 'S5---/I2.1', 'X3.2-', 'A5.1---']\n",
            ",\t,\tPUNCT\t['PUNCT']\n",
            "as\tas\tADP\t['Z5']\n",
            "measured\tmeasure\tVERB\t['N3.1']\n",
            "by\tby\tADP\t['Z5']\n",
            "annual\tannual\tADJ\t['N6+']\n",
            "flow\tflow\tNOUN\t['M4', 'M1', 'N5']\n",
            "in\tin\tADP\t['Z5']\n",
            "cubic\tcubic\tADJ\t['O4.4', 'N2']\n",
            "metres\tmetre\tNOUN\t['N3.3', 'N3.7']\n",
            "of\tof\tADP\t['Z5']\n",
            "water\twater\tNOUN\t['O1.2', 'W3/M4', 'B1', 'C1%']\n",
            ".\t.\tPUNCT\t['PUNCT']\n",
            "About\tabout\tADV\t['A13.4', 'Z5', 'M6']\n",
            "6,650\t6,650\tNUM\t['N1']\n",
            "km\tkm\tNOUN\t['Z99']\n",
            "(\t(\tPUNCT\t['PUNCT']\n",
            "4,130\t4,130\tNUM\t['N1']\n",
            "mi\tmi\tNOUN\t['Z99']\n",
            ")\t)\tPUNCT\t['PUNCT']\n",
            "long\tlong\tADV\t['T1.3+']\n",
            ",\t,\tPUNCT\t['PUNCT']\n",
            "its\tits\tPRON\t['Z8']\n",
            "drainage\tdrainage\tNOUN\t['B4', 'H1', 'B3']\n",
            "basin\tbasin\tNOUN\t['O2', 'W3', 'M4']\n",
            "covers\tcover\tVERB\t['A10-', 'M1', 'N3.6', 'S8+', 'I1.1', 'A1.8+', 'N5', 'Q2.1', 'A1.1.1']\n",
            "eleven\televen\tNUM\t['N1', 'T3']\n",
            "countries\tcountry\tNOUN\t['M7']\n",
            ":\t:\tPUNCT\t['PUNCT']\n",
            "the\tthe\tDET\t['Z5']\n",
            "Democratic\tDemocratic\tPROPN\t['Z1mf', 'Z3c']\n",
            "Republic\tRepublic\tPROPN\t['Z1mf', 'Z3c']\n",
            "of\tof\tADP\t['Z5']\n",
            "the\tthe\tDET\t['Z5']\n",
            "Congo\tCongo\tPROPN\t['Z2']\n",
            ",\t,\tPUNCT\t['PUNCT']\n",
            "Tanzania\tTanzania\tPROPN\t['Z2']\n",
            ",\t,\tPUNCT\t['PUNCT']\n",
            "Burundi\tBurundi\tPROPN\t['Z2']\n",
            ",\t,\tPUNCT\t['PUNCT']\n",
            "Rwanda\tRwanda\tPROPN\t['Z2']\n",
            ",\t,\tPUNCT\t['PUNCT']\n",
            "Uganda\tUganda\tPROPN\t['Z2']\n",
            ",\t,\tPUNCT\t['PUNCT']\n",
            "Kenya\tKenya\tPROPN\t['Z2']\n",
            ",\t,\tPUNCT\t['PUNCT']\n",
            "Ethiopia\tEthiopia\tPROPN\t['Z2']\n",
            ",\t,\tPUNCT\t['PUNCT']\n",
            "Eritrea\tEritrea\tPROPN\t['Z2']\n",
            ",\t,\tPUNCT\t['PUNCT']\n",
            "South\tSouth\tPROPN\t['Z2', 'Z3c']\n",
            "Sudan\tSudan\tPROPN\t['Z2', 'Z3c']\n",
            ",\t,\tPUNCT\t['PUNCT']\n",
            "Republic\tRepublic\tPROPN\t['S5+/M7']\n",
            "of\tof\tADP\t['Z5']\n",
            "the\tthe\tDET\t['Z5']\n",
            "Sudan\tSudan\tPROPN\t['Z2']\n",
            ",\t,\tPUNCT\t['PUNCT']\n",
            "and\tand\tCCONJ\t['Z5']\n",
            "Egypt\tEgypt\tPROPN\t['Z2']\n",
            ".\t.\tPUNCT\t['PUNCT']\n",
            "In\tin\tADP\t['Z5']\n",
            "particular\tparticular\tADJ\t['A4.2+', 'X7+']\n",
            ",\t,\tPUNCT\t['PUNCT']\n",
            "the\tthe\tDET\t['Z5']\n",
            "Nile\tNile\tPROPN\t['Z2']\n",
            "is\tbe\tAUX\t['A3+', 'Z5']\n",
            "the\tthe\tDET\t['Z5']\n",
            "primary\tprimary\tADJ\t['A11.1+', 'P1']\n",
            "water\twater\tNOUN\t['O1.2', 'W3/M4', 'B1', 'C1%']\n",
            "source\tsource\tNOUN\t['Z2', 'Z3c']\n",
            "of\tof\tADP\t['Z2', 'Z3c']\n",
            "Egypt\tEgypt\tPROPN\t['Z2', 'Z3c']\n",
            ",\t,\tPUNCT\t['PUNCT']\n",
            "Sudan\tSudan\tPROPN\t['Z2']\n",
            "and\tand\tCCONJ\t['Z5']\n",
            "South\tSouth\tPROPN\t['Z2', 'Z3c']\n",
            "Sudan\tSudan\tPROPN\t['Z2', 'Z3c']\n",
            ".\t.\tPUNCT\t['PUNCT']\n",
            "Additionally\tadditionally\tADV\t['N5++']\n",
            ",\t,\tPUNCT\t['PUNCT']\n",
            "the\tthe\tDET\t['Z5']\n",
            "Nile\tNile\tPROPN\t['Z2']\n",
            "is\tbe\tAUX\t['A3+', 'Z5']\n",
            "an\tan\tDET\t['Z5']\n",
            "important\timportant\tADJ\t['A11.1+']\n",
            "economic\teconomic\tADJ\t['I1.3-', 'I2.1']\n",
            "river\triver\tNOUN\t['W3/M4', 'N5+']\n",
            ",\t,\tPUNCT\t['PUNCT']\n",
            "supporting\tsupport\tVERB\t['S8+', 'A1.1.1', 'K5.1', 'I1.1', 'A10+']\n",
            "agriculture\tagriculture\tNOUN\t['T1.3']\n",
            "and\tand\tCCONJ\t['T1.3']\n",
            "fishing\tfishing\tNOUN\t['T1.3']\n",
            ".\t.\tPUNCT\t['PUNCT']\n",
            "\n",
            "\n",
            "\t\n",
            "\n",
            "\tSPACE\t['Z99']\n",
            "The\tthe\tDET\t['Z5']\n",
            "Nile\tNile\tPROPN\t['Z2']\n",
            "has\thave\tAUX\t['A9+', 'Z5', 'A2.2', 'S4']\n",
            "two\ttwo\tNUM\t['N1']\n",
            "major\tmajor\tADJ\t['N1']\n",
            "tributaries\ttributary\tNOUN\t['W3/M4']\n",
            "–\t–\tPUNCT\t['PUNCT']\n",
            "the\tthe\tDET\t['Z5']\n",
            "White\tWhite\tPROPN\t['Z1mf', 'Z3c']\n",
            "Nile\tNile\tPROPN\t['Z1mf', 'Z3c']\n",
            "and\tand\tCCONJ\t['Z5']\n",
            "the\tthe\tDET\t['Z5']\n",
            "Blue\tBlue\tPROPN\t['Z1mf', 'Z3c']\n",
            "Nile\tNile\tPROPN\t['Z1mf', 'Z3c']\n",
            ".\t.\tPUNCT\t['PUNCT']\n",
            "The\tthe\tDET\t['Z5']\n",
            "White\tWhite\tPROPN\t['Z1mf', 'Z3c']\n",
            "Nile\tNile\tPROPN\t['Z1mf', 'Z3c']\n",
            "is\tbe\tAUX\t['A3+', 'Z5']\n",
            "traditionally\ttraditionally\tADV\t['S1.1.1', 'A6.2+', 'T3++']\n",
            "considered\tconsider\tVERB\t['X2.1', 'X2.4', 'X6']\n",
            "to\tto\tPART\t['Z5']\n",
            "be\tbe\tAUX\t['A3+', 'Z5']\n",
            "the\tthe\tDET\t['Z5']\n",
            "headwaters\theadwater\tNOUN\t['Z99']\n",
            "stream\tstream\tVERB\t['N5+', 'M1', 'P1', 'B2-']\n",
            ".\t.\tPUNCT\t['PUNCT']\n",
            "However\thowever\tADV\t['Z4']\n",
            ",\t,\tPUNCT\t['PUNCT']\n",
            "the\tthe\tDET\t['Z5']\n",
            "Blue\tBlue\tPROPN\t['Z1mf', 'Z3c']\n",
            "Nile\tNile\tPROPN\t['Z1mf', 'Z3c']\n",
            "is\tbe\tAUX\t['A3+', 'Z5']\n",
            "the\tthe\tDET\t['Z5']\n",
            "source\tsource\tNOUN\t['T2+', 'Q1.1', 'X2.2', 'W3/M4']\n",
            "of\tof\tADP\t['Z5']\n",
            "most\tmost\tADJ\t['A13.2', 'N5+++']\n",
            "of\tof\tADP\t['Z5']\n",
            "the\tthe\tDET\t['Z5']\n",
            "water\twater\tNOUN\t['O1.2', 'W3/M4', 'B1', 'C1%']\n",
            "of\tof\tADP\t['Z5']\n",
            "the\tthe\tDET\t['Z5']\n",
            "Nile\tNile\tPROPN\t['Z2']\n",
            "downstream\tdownstream\tADV\t['N3.3++']\n",
            ",\t,\tPUNCT\t['PUNCT']\n",
            "containing\tcontain\tVERB\t['A1.8+', 'A1.7+']\n",
            "80\t80\tNUM\t['N1']\n",
            "%\t%\tNOUN\t['Df/A5.1+++mfnc']\n",
            "of\tof\tADP\t['Df/A5.1+++mfnc']\n",
            "the\tthe\tDET\t['Df/A5.1+++mfnc']\n",
            "water\twater\tNOUN\t['Df/A5.1+++mfnc']\n",
            "and\tand\tCCONJ\t['Z5']\n",
            "silt\tsilt\tNOUN\t['A10-']\n",
            ".\t.\tPUNCT\t['PUNCT']\n",
            "The\tthe\tDET\t['Z5']\n",
            "White\tWhite\tPROPN\t['Z1mf', 'Z3c']\n",
            "Nile\tNile\tPROPN\t['Z1mf', 'Z3c']\n",
            "is\tbe\tAUX\t['A3+', 'Z5']\n",
            "longer\tlong\tADJ\t['T1.3++', 'N3.7++', 'N3.3++', 'N3.2++']\n",
            "and\tand\tCCONJ\t['Z5']\n",
            "rises\trise\tVERB\t['M1', 'N5+/A2.1', 'N3.2+/A2.1', 'S7.1+/A2.1', 'N3.7+/A2.1']\n",
            "in\tin\tADP\t['Z5']\n",
            "the\tthe\tDET\t['Z5']\n",
            "Great\tGreat\tPROPN\t['Z1mf', 'Z3c']\n",
            "Lakes\tLakes\tPROPN\t['Z1mf', 'Z3c']\n",
            "region\tregion\tNOUN\t['M7', 'B1']\n",
            ".\t.\tPUNCT\t['PUNCT']\n",
            "It\tit\tPRON\t['Z8']\n",
            "begins\tbegin\tVERB\t['T2+']\n",
            "at\tat\tADP\t['Z5']\n",
            "Lake\tLake\tPROPN\t['Z1mf', 'Z3c']\n",
            "Victoria\tVictoria\tPROPN\t['Z1mf', 'Z3c']\n",
            "and\tand\tCCONJ\t['Z5']\n",
            "flows\tflow\tVERB\t['M4', 'M1']\n",
            "through\tthrough\tADP\t['Z5']\n",
            "Uganda\tUganda\tPROPN\t['Z2']\n",
            "and\tand\tCCONJ\t['Z5']\n",
            "South\tSouth\tPROPN\t['Z2', 'Z3c']\n",
            "Sudan\tSudan\tPROPN\t['Z2', 'Z3c']\n",
            ".\t.\tPUNCT\t['PUNCT']\n",
            "The\tthe\tDET\t['Z5']\n",
            "Blue\tBlue\tPROPN\t['Z1mf', 'Z3c']\n",
            "Nile\tNile\tPROPN\t['Z1mf', 'Z3c']\n",
            "begins\tbegin\tVERB\t['T2+']\n",
            "at\tat\tADP\t['Z5']\n",
            "Lake\tLake\tPROPN\t['W3/M4']\n",
            "Tana\tTana\tPROPN\t['Z2']\n",
            "in\tin\tADP\t['Z2']\n",
            "Ethiopia\tEthiopia\tPROPN\t['Z2']\n",
            "and\tand\tCCONJ\t['Z5']\n",
            "flows\tflow\tVERB\t['M4', 'M1']\n",
            "into\tinto\tADP\t['Z5']\n",
            "Sudan\tSudan\tPROPN\t['Z2']\n",
            "from\tfrom\tADP\t['Z5']\n",
            "the\tthe\tDET\t['Z5']\n",
            "southeast\tsoutheast\tNOUN\t['Z99']\n",
            ".\t.\tPUNCT\t['PUNCT']\n",
            "The\tthe\tDET\t['Z5']\n",
            "two\ttwo\tNUM\t['N1', 'T3', 'T1.2']\n",
            "rivers\triver\tNOUN\t['W3/M4', 'N5+']\n",
            "meet\tmeet\tVERB\t['S3.1', 'M6', 'A1.1.1', 'X9.2+', 'A6.1+']\n",
            "at\tat\tADP\t['Z5']\n",
            "the\tthe\tDET\t['Z5']\n",
            "Sudanese\tsudanese\tADJ\t['Z2/S2mf']\n",
            "capital\tcapital\tNOUN\t['Z2', 'Z3c']\n",
            "of\tof\tADP\t['Z2', 'Z3c']\n",
            "Khartoum\tKhartoum\tPROPN\t['Z2', 'Z3c']\n",
            ".\t.\tPUNCT\t['PUNCT']\n",
            "\n",
            "\n",
            "\t\n",
            "\n",
            "\tSPACE\t['Z99']\n",
            "The\tthe\tDET\t['Z5']\n",
            "northern\tnorthern\tADJ\t['M6']\n",
            "section\tsection\tNOUN\t['Df/A5.1+++mfnc']\n",
            "of\tof\tADP\t['Df/A5.1+++mfnc']\n",
            "the\tthe\tDET\t['Df/A5.1+++mfnc']\n",
            "river\triver\tNOUN\t['Df/A5.1+++mfnc']\n",
            "flows\tflow\tVERB\t['M4', 'M1']\n",
            "north\tnorth\tADV\t['M6']\n",
            "almost\talmost\tADV\t['A13.4']\n",
            "entirely\tentirely\tADV\t['A13.2']\n",
            "through\tthrough\tADP\t['Z5']\n",
            "the\tthe\tDET\t['Z5']\n",
            "Nubian\tNubian\tPROPN\t['Z1mf', 'Z3c']\n",
            "Desert\tDesert\tPROPN\t['Z1mf', 'Z3c']\n",
            "to\tto\tADP\t['Z5']\n",
            "Cairo\tCairo\tPROPN\t['Z2']\n",
            "and\tand\tCCONJ\t['Z5']\n",
            "its\tits\tPRON\t['Z8']\n",
            "large\tlarge\tADJ\t['N3.2+', 'N5+', 'A11.1+']\n",
            "delta\tdelta\tNOUN\t['Z99']\n",
            ",\t,\tPUNCT\t['PUNCT']\n",
            "and\tand\tCCONJ\t['Z5']\n",
            "the\tthe\tDET\t['Z5']\n",
            "river\triver\tNOUN\t['W3/M4', 'N5+']\n",
            "flows\tflow\tVERB\t['M4', 'M1']\n",
            "into\tinto\tADP\t['Z5']\n",
            "the\tthe\tDET\t['Z5']\n",
            "Mediterranean\tMediterranean\tPROPN\t['Z1mf', 'Z3c']\n",
            "Sea\tSea\tPROPN\t['Z1mf', 'Z3c']\n",
            "at\tat\tADP\t['Z5']\n",
            "Alexandria\tAlexandria\tPROPN\t['Z1f', 'Z2']\n",
            ".\t.\tPUNCT\t['PUNCT']\n",
            "Egyptian\tegyptian\tADJ\t['Z2']\n",
            "civilization\tcivilization\tNOUN\t['S1.1.1', 'A5.1+++', 'O4.2+++']\n",
            "and\tand\tCCONJ\t['Z5']\n",
            "Sudanese\tsudanese\tADJ\t['Z2/S2mf']\n",
            "kingdoms\tkingdom\tNOUN\t['G1.1', 'M7/S7.1+']\n",
            "have\thave\tAUX\t['A9+', 'Z5', 'A2.2', 'S4']\n",
            "depended\tdepend\tVERB\t['A2.2', 'S7.1-']\n",
            "on\ton\tADP\t['Z5']\n",
            "the\tthe\tDET\t['Z5']\n",
            "river\triver\tNOUN\t['W3/M4', 'N5+']\n",
            "and\tand\tCCONJ\t['Z5']\n",
            "its\tits\tPRON\t['Z8']\n",
            "annual\tannual\tADJ\t['N6+']\n",
            "flooding\tflooding\tNOUN\t['W4', 'N5+']\n",
            "since\tsince\tSCONJ\t['Z5']\n",
            "ancient\tancient\tADJ\t['T3++']\n",
            "times\ttime\tNOUN\t['T1', 'T1.2', 'T1.3', 'T1.1.2', 'N6', 'N1']\n",
            ".\t.\tPUNCT\t['PUNCT']\n",
            "Most\tMost\tADJ\t['A13.2', 'N5+++']\n",
            "of\tof\tADP\t['Z5']\n",
            "the\tthe\tDET\t['Z5']\n",
            "population\tpopulation\tNOUN\t['T1.3']\n",
            "and\tand\tCCONJ\t['T1.3']\n",
            "cities\tcity\tNOUN\t['T1.3']\n",
            "of\tof\tADP\t['Z5']\n",
            "Egypt\tEgypt\tPROPN\t['Z2']\n",
            "lie\tlie\tVERB\t['A5.2-', 'M1', 'T2++', 'M6', 'A3+']\n",
            "along\talong\tADP\t['Z5']\n",
            "those\tthose\tDET\t['Z5', 'Z8']\n",
            "parts\tpart\tNOUN\t['N5.1-', 'O2', 'M7', 'I3.1', 'S1.1.3+', 'K4']\n",
            "of\tof\tADP\t['Z5']\n",
            "the\tthe\tDET\t['Z5']\n",
            "Nile\tNile\tPROPN\t['T1.3']\n",
            "valley\tvalley\tNOUN\t['T1.3']\n",
            "north\tnorth\tADV\t['M6']\n",
            "of\tof\tADP\t['Z5']\n",
            "the\tthe\tDET\t['Z5']\n",
            "Aswan\tAswan\tPROPN\t['Z1mf', 'Z3c']\n",
            "Dam\tDam\tPROPN\t['Z1mf', 'Z3c']\n",
            ".\t.\tPUNCT\t['PUNCT']\n",
            "Nearly\tnearly\tADV\t['A13.4']\n",
            "all\tall\tDET\t['N5.1+']\n",
            "the\tthe\tDET\t['Z5']\n",
            "cultural\tcultural\tADJ\t['C1', 'S1.1.1', 'S5+']\n",
            "and\tand\tCCONJ\t['Z5']\n",
            "historical\thistorical\tADJ\t['T1.1.1', 'T3+']\n",
            "sites\tsite\tNOUN\t['Z2', 'Z3c']\n",
            "of\tof\tADP\t['Z2', 'Z3c']\n",
            "Ancient\tAncient\tPROPN\t['Z2', 'Z3c']\n",
            "Egypt\tEgypt\tPROPN\t['Z2']\n",
            "developed\tdevelop\tVERB\t['A2.1+', 'T2+', 'A5.1+/A2.1', 'N3.2+/A2.1', 'H1', 'A9+', 'C1']\n",
            "and\tand\tCCONJ\t['Z5']\n",
            "are\tbe\tAUX\t['A3+', 'Z5']\n",
            "found\tfind\tVERB\t['A10+', 'X2.1', 'X6+', 'T2+', 'A2.2', 'A1.1.1']\n",
            "along\talong\tADP\t['Z5']\n",
            "river\triver\tNOUN\t['W3']\n",
            "banks\tbank\tNOUN\t['W3']\n",
            ".\t.\tPUNCT\t['PUNCT']\n",
            "The\tthe\tDET\t['Z5']\n",
            "Nile\tNile\tPROPN\t['Z2']\n",
            "is\tbe\tAUX\t['A3+', 'Z5']\n",
            ",\t,\tPUNCT\t['PUNCT']\n",
            "with\twith\tADP\t['Z5']\n",
            "the\tthe\tDET\t['Z5']\n",
            "Rhône\tRhône\tPROPN\t['Z99']\n",
            "and\tand\tCCONJ\t['Z5']\n",
            "Po\tPo\tPROPN\t['Z99']\n",
            ",\t,\tPUNCT\t['PUNCT']\n",
            "one\tone\tNUM\t['N1', 'T3', 'T1.2']\n",
            "of\tof\tADP\t['Z5']\n",
            "the\tthe\tDET\t['Z5']\n",
            "three\tthree\tNUM\t['N1']\n",
            "Mediterranean\tMediterranean\tPROPN\t['T1.3']\n",
            "rivers\triver\tNOUN\t['T1.3']\n",
            "with\twith\tADP\t['Z5']\n",
            "the\tthe\tDET\t['Z5']\n",
            "largest\tlarge\tADJ\t['N3.2+++', 'N5+++', 'A11.1+++']\n",
            "water\twater\tNOUN\t['O1.2', 'W3/M4', 'B1', 'C1%']\n",
            "discharge\tdischarge\tNOUN\t['A1.7-/M1', 'B1', 'O1.2']\n",
            ".\t.\tPUNCT\t['PUNCT']\n"
          ]
        }
      ],
      "source": [
        "from pathlib import Path\n",
        "\n",
        "nile_file = Path(\"Nile.txt\")\n",
        "if not nile_file.exists():\n",
        "  print('Cannot found the Nile text file, downloading the file')\n",
        "  import requests\n",
        "  response = requests.get(\"https://raw.githubusercontent.com/UCREL/pymusas_notebook/refs/heads/main/Nile.txt\")\n",
        "  with nile_file.open('w', encoding='utf-8') as nile_fp:\n",
        "    nile_fp.write(response.text)\n",
        "  print('Nile text file downloaded')\n",
        "\n",
        "with nile_file.open(\"r\", encoding=\"utf-8\") as nile_fp:\n",
        "    nile_text = nile_fp.read()\n",
        "    output_doc = nlp(nile_text)\n",
        "    for token in output_doc:\n",
        "        print(f'{token.text}\\t{token.lemma_}\\t{token.pos_}\\t{token._.pymusas_tags}')\n"
      ]
    },
    {
      "cell_type": "markdown",
      "id": "fc6a9193-b2af-46d2-b0a7-6d960a4ddcf2",
      "metadata": {
        "id": "fc6a9193-b2af-46d2-b0a7-6d960a4ddcf2"
      },
      "source": [
        "## Using Pandas for easier reading of the output\n",
        "\n",
        "As the input gets larger, it will be easier to read it in from a file and output the results in a [Pandas](https://pandas.pydata.org/) DataFrame, which can be used in a similar way to a spreadsheet or table."
      ]
    },
    {
      "cell_type": "markdown",
      "id": "d038a566-5cb0-4f0b-ba77-2c2b83db56b8",
      "metadata": {
        "id": "d038a566-5cb0-4f0b-ba77-2c2b83db56b8"
      },
      "source": [
        "As we need Pandas, we will first need to ensure that pandas is installed:"
      ]
    },
    {
      "cell_type": "code",
      "execution_count": 11,
      "id": "a67ddd57-2dab-4c39-b30b-0f853f601569",
      "metadata": {
        "scrolled": true,
        "tags": [],
        "id": "a67ddd57-2dab-4c39-b30b-0f853f601569",
        "outputId": "60c84b98-82fb-4b12-943a-1ddee64d258f",
        "colab": {
          "base_uri": "https://localhost:8080/"
        }
      },
      "outputs": [
        {
          "output_type": "stream",
          "name": "stdout",
          "text": [
            "Requirement already satisfied: pandas in /usr/local/lib/python3.11/dist-packages (2.2.2)\n",
            "Requirement already satisfied: numpy>=1.23.2 in /usr/local/lib/python3.11/dist-packages (from pandas) (2.0.2)\n",
            "Requirement already satisfied: python-dateutil>=2.8.2 in /usr/local/lib/python3.11/dist-packages (from pandas) (2.9.0.post0)\n",
            "Requirement already satisfied: pytz>=2020.1 in /usr/local/lib/python3.11/dist-packages (from pandas) (2025.2)\n",
            "Requirement already satisfied: tzdata>=2022.7 in /usr/local/lib/python3.11/dist-packages (from pandas) (2025.2)\n",
            "Requirement already satisfied: six>=1.5 in /usr/local/lib/python3.11/dist-packages (from python-dateutil>=2.8.2->pandas) (1.17.0)\n"
          ]
        }
      ],
      "source": [
        "# Install a pip package in the current Jupyter kernel\n",
        "import sys\n",
        "!{sys.executable} -m pip install pandas"
      ]
    },
    {
      "cell_type": "code",
      "execution_count": 12,
      "id": "db89daf8-5c47-4aca-8a6f-90b9586d7660",
      "metadata": {
        "tags": [],
        "id": "db89daf8-5c47-4aca-8a6f-90b9586d7660",
        "outputId": "98900d66-e0da-4d23-f043-3c451f902dbf",
        "colab": {
          "base_uri": "https://localhost:8080/",
          "height": 424
        }
      },
      "outputs": [
        {
          "output_type": "execute_result",
          "data": {
            "text/plain": [
              "          Text      Lemma    POS                   USAS_Tags\n",
              "0          The        the    DET                        [Z5]\n",
              "1         Nile       Nile  PROPN                        [Z2]\n",
              "2           is         be    AUX                   [A3+, Z5]\n",
              "3            a          a    DET                        [Z5]\n",
              "4        major      major    ADJ             [A11.1+, N3.2+]\n",
              "..         ...        ...    ...                         ...\n",
              "380        the        the    DET                        [Z5]\n",
              "381    largest      large    ADJ  [N3.2+++, N5+++, A11.1+++]\n",
              "382      water      water   NOUN      [O1.2, W3/M4, B1, C1%]\n",
              "383  discharge  discharge   NOUN        [A1.7-/M1, B1, O1.2]\n",
              "384          .          .  PUNCT                     [PUNCT]\n",
              "\n",
              "[385 rows x 4 columns]"
            ],
            "text/html": [
              "\n",
              "  <div id=\"df-888cfab1-c813-4c34-bfed-f51ca489cacf\" class=\"colab-df-container\">\n",
              "    <div>\n",
              "<style scoped>\n",
              "    .dataframe tbody tr th:only-of-type {\n",
              "        vertical-align: middle;\n",
              "    }\n",
              "\n",
              "    .dataframe tbody tr th {\n",
              "        vertical-align: top;\n",
              "    }\n",
              "\n",
              "    .dataframe thead th {\n",
              "        text-align: right;\n",
              "    }\n",
              "</style>\n",
              "<table border=\"1\" class=\"dataframe\">\n",
              "  <thead>\n",
              "    <tr style=\"text-align: right;\">\n",
              "      <th></th>\n",
              "      <th>Text</th>\n",
              "      <th>Lemma</th>\n",
              "      <th>POS</th>\n",
              "      <th>USAS_Tags</th>\n",
              "    </tr>\n",
              "  </thead>\n",
              "  <tbody>\n",
              "    <tr>\n",
              "      <th>0</th>\n",
              "      <td>The</td>\n",
              "      <td>the</td>\n",
              "      <td>DET</td>\n",
              "      <td>[Z5]</td>\n",
              "    </tr>\n",
              "    <tr>\n",
              "      <th>1</th>\n",
              "      <td>Nile</td>\n",
              "      <td>Nile</td>\n",
              "      <td>PROPN</td>\n",
              "      <td>[Z2]</td>\n",
              "    </tr>\n",
              "    <tr>\n",
              "      <th>2</th>\n",
              "      <td>is</td>\n",
              "      <td>be</td>\n",
              "      <td>AUX</td>\n",
              "      <td>[A3+, Z5]</td>\n",
              "    </tr>\n",
              "    <tr>\n",
              "      <th>3</th>\n",
              "      <td>a</td>\n",
              "      <td>a</td>\n",
              "      <td>DET</td>\n",
              "      <td>[Z5]</td>\n",
              "    </tr>\n",
              "    <tr>\n",
              "      <th>4</th>\n",
              "      <td>major</td>\n",
              "      <td>major</td>\n",
              "      <td>ADJ</td>\n",
              "      <td>[A11.1+, N3.2+]</td>\n",
              "    </tr>\n",
              "    <tr>\n",
              "      <th>...</th>\n",
              "      <td>...</td>\n",
              "      <td>...</td>\n",
              "      <td>...</td>\n",
              "      <td>...</td>\n",
              "    </tr>\n",
              "    <tr>\n",
              "      <th>380</th>\n",
              "      <td>the</td>\n",
              "      <td>the</td>\n",
              "      <td>DET</td>\n",
              "      <td>[Z5]</td>\n",
              "    </tr>\n",
              "    <tr>\n",
              "      <th>381</th>\n",
              "      <td>largest</td>\n",
              "      <td>large</td>\n",
              "      <td>ADJ</td>\n",
              "      <td>[N3.2+++, N5+++, A11.1+++]</td>\n",
              "    </tr>\n",
              "    <tr>\n",
              "      <th>382</th>\n",
              "      <td>water</td>\n",
              "      <td>water</td>\n",
              "      <td>NOUN</td>\n",
              "      <td>[O1.2, W3/M4, B1, C1%]</td>\n",
              "    </tr>\n",
              "    <tr>\n",
              "      <th>383</th>\n",
              "      <td>discharge</td>\n",
              "      <td>discharge</td>\n",
              "      <td>NOUN</td>\n",
              "      <td>[A1.7-/M1, B1, O1.2]</td>\n",
              "    </tr>\n",
              "    <tr>\n",
              "      <th>384</th>\n",
              "      <td>.</td>\n",
              "      <td>.</td>\n",
              "      <td>PUNCT</td>\n",
              "      <td>[PUNCT]</td>\n",
              "    </tr>\n",
              "  </tbody>\n",
              "</table>\n",
              "<p>385 rows × 4 columns</p>\n",
              "</div>\n",
              "    <div class=\"colab-df-buttons\">\n",
              "\n",
              "  <div class=\"colab-df-container\">\n",
              "    <button class=\"colab-df-convert\" onclick=\"convertToInteractive('df-888cfab1-c813-4c34-bfed-f51ca489cacf')\"\n",
              "            title=\"Convert this dataframe to an interactive table.\"\n",
              "            style=\"display:none;\">\n",
              "\n",
              "  <svg xmlns=\"http://www.w3.org/2000/svg\" height=\"24px\" viewBox=\"0 -960 960 960\">\n",
              "    <path d=\"M120-120v-720h720v720H120Zm60-500h600v-160H180v160Zm220 220h160v-160H400v160Zm0 220h160v-160H400v160ZM180-400h160v-160H180v160Zm440 0h160v-160H620v160ZM180-180h160v-160H180v160Zm440 0h160v-160H620v160Z\"/>\n",
              "  </svg>\n",
              "    </button>\n",
              "\n",
              "  <style>\n",
              "    .colab-df-container {\n",
              "      display:flex;\n",
              "      gap: 12px;\n",
              "    }\n",
              "\n",
              "    .colab-df-convert {\n",
              "      background-color: #E8F0FE;\n",
              "      border: none;\n",
              "      border-radius: 50%;\n",
              "      cursor: pointer;\n",
              "      display: none;\n",
              "      fill: #1967D2;\n",
              "      height: 32px;\n",
              "      padding: 0 0 0 0;\n",
              "      width: 32px;\n",
              "    }\n",
              "\n",
              "    .colab-df-convert:hover {\n",
              "      background-color: #E2EBFA;\n",
              "      box-shadow: 0px 1px 2px rgba(60, 64, 67, 0.3), 0px 1px 3px 1px rgba(60, 64, 67, 0.15);\n",
              "      fill: #174EA6;\n",
              "    }\n",
              "\n",
              "    .colab-df-buttons div {\n",
              "      margin-bottom: 4px;\n",
              "    }\n",
              "\n",
              "    [theme=dark] .colab-df-convert {\n",
              "      background-color: #3B4455;\n",
              "      fill: #D2E3FC;\n",
              "    }\n",
              "\n",
              "    [theme=dark] .colab-df-convert:hover {\n",
              "      background-color: #434B5C;\n",
              "      box-shadow: 0px 1px 3px 1px rgba(0, 0, 0, 0.15);\n",
              "      filter: drop-shadow(0px 1px 2px rgba(0, 0, 0, 0.3));\n",
              "      fill: #FFFFFF;\n",
              "    }\n",
              "  </style>\n",
              "\n",
              "    <script>\n",
              "      const buttonEl =\n",
              "        document.querySelector('#df-888cfab1-c813-4c34-bfed-f51ca489cacf button.colab-df-convert');\n",
              "      buttonEl.style.display =\n",
              "        google.colab.kernel.accessAllowed ? 'block' : 'none';\n",
              "\n",
              "      async function convertToInteractive(key) {\n",
              "        const element = document.querySelector('#df-888cfab1-c813-4c34-bfed-f51ca489cacf');\n",
              "        const dataTable =\n",
              "          await google.colab.kernel.invokeFunction('convertToInteractive',\n",
              "                                                    [key], {});\n",
              "        if (!dataTable) return;\n",
              "\n",
              "        const docLinkHtml = 'Like what you see? Visit the ' +\n",
              "          '<a target=\"_blank\" href=https://colab.research.google.com/notebooks/data_table.ipynb>data table notebook</a>'\n",
              "          + ' to learn more about interactive tables.';\n",
              "        element.innerHTML = '';\n",
              "        dataTable['output_type'] = 'display_data';\n",
              "        await google.colab.output.renderOutput(dataTable, element);\n",
              "        const docLink = document.createElement('div');\n",
              "        docLink.innerHTML = docLinkHtml;\n",
              "        element.appendChild(docLink);\n",
              "      }\n",
              "    </script>\n",
              "  </div>\n",
              "\n",
              "\n",
              "    <div id=\"df-8e2ebae7-e9bd-4ac3-9b9f-69b54cad4030\">\n",
              "      <button class=\"colab-df-quickchart\" onclick=\"quickchart('df-8e2ebae7-e9bd-4ac3-9b9f-69b54cad4030')\"\n",
              "                title=\"Suggest charts\"\n",
              "                style=\"display:none;\">\n",
              "\n",
              "<svg xmlns=\"http://www.w3.org/2000/svg\" height=\"24px\"viewBox=\"0 0 24 24\"\n",
              "     width=\"24px\">\n",
              "    <g>\n",
              "        <path d=\"M19 3H5c-1.1 0-2 .9-2 2v14c0 1.1.9 2 2 2h14c1.1 0 2-.9 2-2V5c0-1.1-.9-2-2-2zM9 17H7v-7h2v7zm4 0h-2V7h2v10zm4 0h-2v-4h2v4z\"/>\n",
              "    </g>\n",
              "</svg>\n",
              "      </button>\n",
              "\n",
              "<style>\n",
              "  .colab-df-quickchart {\n",
              "      --bg-color: #E8F0FE;\n",
              "      --fill-color: #1967D2;\n",
              "      --hover-bg-color: #E2EBFA;\n",
              "      --hover-fill-color: #174EA6;\n",
              "      --disabled-fill-color: #AAA;\n",
              "      --disabled-bg-color: #DDD;\n",
              "  }\n",
              "\n",
              "  [theme=dark] .colab-df-quickchart {\n",
              "      --bg-color: #3B4455;\n",
              "      --fill-color: #D2E3FC;\n",
              "      --hover-bg-color: #434B5C;\n",
              "      --hover-fill-color: #FFFFFF;\n",
              "      --disabled-bg-color: #3B4455;\n",
              "      --disabled-fill-color: #666;\n",
              "  }\n",
              "\n",
              "  .colab-df-quickchart {\n",
              "    background-color: var(--bg-color);\n",
              "    border: none;\n",
              "    border-radius: 50%;\n",
              "    cursor: pointer;\n",
              "    display: none;\n",
              "    fill: var(--fill-color);\n",
              "    height: 32px;\n",
              "    padding: 0;\n",
              "    width: 32px;\n",
              "  }\n",
              "\n",
              "  .colab-df-quickchart:hover {\n",
              "    background-color: var(--hover-bg-color);\n",
              "    box-shadow: 0 1px 2px rgba(60, 64, 67, 0.3), 0 1px 3px 1px rgba(60, 64, 67, 0.15);\n",
              "    fill: var(--button-hover-fill-color);\n",
              "  }\n",
              "\n",
              "  .colab-df-quickchart-complete:disabled,\n",
              "  .colab-df-quickchart-complete:disabled:hover {\n",
              "    background-color: var(--disabled-bg-color);\n",
              "    fill: var(--disabled-fill-color);\n",
              "    box-shadow: none;\n",
              "  }\n",
              "\n",
              "  .colab-df-spinner {\n",
              "    border: 2px solid var(--fill-color);\n",
              "    border-color: transparent;\n",
              "    border-bottom-color: var(--fill-color);\n",
              "    animation:\n",
              "      spin 1s steps(1) infinite;\n",
              "  }\n",
              "\n",
              "  @keyframes spin {\n",
              "    0% {\n",
              "      border-color: transparent;\n",
              "      border-bottom-color: var(--fill-color);\n",
              "      border-left-color: var(--fill-color);\n",
              "    }\n",
              "    20% {\n",
              "      border-color: transparent;\n",
              "      border-left-color: var(--fill-color);\n",
              "      border-top-color: var(--fill-color);\n",
              "    }\n",
              "    30% {\n",
              "      border-color: transparent;\n",
              "      border-left-color: var(--fill-color);\n",
              "      border-top-color: var(--fill-color);\n",
              "      border-right-color: var(--fill-color);\n",
              "    }\n",
              "    40% {\n",
              "      border-color: transparent;\n",
              "      border-right-color: var(--fill-color);\n",
              "      border-top-color: var(--fill-color);\n",
              "    }\n",
              "    60% {\n",
              "      border-color: transparent;\n",
              "      border-right-color: var(--fill-color);\n",
              "    }\n",
              "    80% {\n",
              "      border-color: transparent;\n",
              "      border-right-color: var(--fill-color);\n",
              "      border-bottom-color: var(--fill-color);\n",
              "    }\n",
              "    90% {\n",
              "      border-color: transparent;\n",
              "      border-bottom-color: var(--fill-color);\n",
              "    }\n",
              "  }\n",
              "</style>\n",
              "\n",
              "      <script>\n",
              "        async function quickchart(key) {\n",
              "          const quickchartButtonEl =\n",
              "            document.querySelector('#' + key + ' button');\n",
              "          quickchartButtonEl.disabled = true;  // To prevent multiple clicks.\n",
              "          quickchartButtonEl.classList.add('colab-df-spinner');\n",
              "          try {\n",
              "            const charts = await google.colab.kernel.invokeFunction(\n",
              "                'suggestCharts', [key], {});\n",
              "          } catch (error) {\n",
              "            console.error('Error during call to suggestCharts:', error);\n",
              "          }\n",
              "          quickchartButtonEl.classList.remove('colab-df-spinner');\n",
              "          quickchartButtonEl.classList.add('colab-df-quickchart-complete');\n",
              "        }\n",
              "        (() => {\n",
              "          let quickchartButtonEl =\n",
              "            document.querySelector('#df-8e2ebae7-e9bd-4ac3-9b9f-69b54cad4030 button');\n",
              "          quickchartButtonEl.style.display =\n",
              "            google.colab.kernel.accessAllowed ? 'block' : 'none';\n",
              "        })();\n",
              "      </script>\n",
              "    </div>\n",
              "\n",
              "  <div id=\"id_e673bf45-4767-4cbe-bc68-e7c6e982b3c9\">\n",
              "    <style>\n",
              "      .colab-df-generate {\n",
              "        background-color: #E8F0FE;\n",
              "        border: none;\n",
              "        border-radius: 50%;\n",
              "        cursor: pointer;\n",
              "        display: none;\n",
              "        fill: #1967D2;\n",
              "        height: 32px;\n",
              "        padding: 0 0 0 0;\n",
              "        width: 32px;\n",
              "      }\n",
              "\n",
              "      .colab-df-generate:hover {\n",
              "        background-color: #E2EBFA;\n",
              "        box-shadow: 0px 1px 2px rgba(60, 64, 67, 0.3), 0px 1px 3px 1px rgba(60, 64, 67, 0.15);\n",
              "        fill: #174EA6;\n",
              "      }\n",
              "\n",
              "      [theme=dark] .colab-df-generate {\n",
              "        background-color: #3B4455;\n",
              "        fill: #D2E3FC;\n",
              "      }\n",
              "\n",
              "      [theme=dark] .colab-df-generate:hover {\n",
              "        background-color: #434B5C;\n",
              "        box-shadow: 0px 1px 3px 1px rgba(0, 0, 0, 0.15);\n",
              "        filter: drop-shadow(0px 1px 2px rgba(0, 0, 0, 0.3));\n",
              "        fill: #FFFFFF;\n",
              "      }\n",
              "    </style>\n",
              "    <button class=\"colab-df-generate\" onclick=\"generateWithVariable('df')\"\n",
              "            title=\"Generate code using this dataframe.\"\n",
              "            style=\"display:none;\">\n",
              "\n",
              "  <svg xmlns=\"http://www.w3.org/2000/svg\" height=\"24px\"viewBox=\"0 0 24 24\"\n",
              "       width=\"24px\">\n",
              "    <path d=\"M7,19H8.4L18.45,9,17,7.55,7,17.6ZM5,21V16.75L18.45,3.32a2,2,0,0,1,2.83,0l1.4,1.43a1.91,1.91,0,0,1,.58,1.4,1.91,1.91,0,0,1-.58,1.4L9.25,21ZM18.45,9,17,7.55Zm-12,3A5.31,5.31,0,0,0,4.9,8.1,5.31,5.31,0,0,0,1,6.5,5.31,5.31,0,0,0,4.9,4.9,5.31,5.31,0,0,0,6.5,1,5.31,5.31,0,0,0,8.1,4.9,5.31,5.31,0,0,0,12,6.5,5.46,5.46,0,0,0,6.5,12Z\"/>\n",
              "  </svg>\n",
              "    </button>\n",
              "    <script>\n",
              "      (() => {\n",
              "      const buttonEl =\n",
              "        document.querySelector('#id_e673bf45-4767-4cbe-bc68-e7c6e982b3c9 button.colab-df-generate');\n",
              "      buttonEl.style.display =\n",
              "        google.colab.kernel.accessAllowed ? 'block' : 'none';\n",
              "\n",
              "      buttonEl.onclick = () => {\n",
              "        google.colab.notebook.generateWithVariable('df');\n",
              "      }\n",
              "      })();\n",
              "    </script>\n",
              "  </div>\n",
              "\n",
              "    </div>\n",
              "  </div>\n"
            ],
            "application/vnd.google.colaboratory.intrinsic+json": {
              "type": "dataframe",
              "variable_name": "df",
              "summary": "{\n  \"name\": \"df\",\n  \"rows\": 385,\n  \"fields\": [\n    {\n      \"column\": \"Text\",\n      \"properties\": {\n        \"dtype\": \"category\",\n        \"num_unique_values\": 170,\n        \"samples\": [\n          \"on\",\n          \"by\",\n          \"southeast\"\n        ],\n        \"semantic_type\": \"\",\n        \"description\": \"\"\n      }\n    },\n    {\n      \"column\": \"Lemma\",\n      \"properties\": {\n        \"dtype\": \"category\",\n        \"num_unique_values\": 157,\n        \"samples\": [\n          \"kingdom\",\n          \"6,650\",\n          \"Most\"\n        ],\n        \"semantic_type\": \"\",\n        \"description\": \"\"\n      }\n    },\n    {\n      \"column\": \"POS\",\n      \"properties\": {\n        \"dtype\": \"category\",\n        \"num_unique_values\": 15,\n        \"samples\": [\n          \"CCONJ\",\n          \"SCONJ\",\n          \"DET\"\n        ],\n        \"semantic_type\": \"\",\n        \"description\": \"\"\n      }\n    },\n    {\n      \"column\": \"USAS_Tags\",\n      \"properties\": {\n        \"dtype\": \"object\",\n        \"semantic_type\": \"\",\n        \"description\": \"\"\n      }\n    }\n  ]\n}"
            }
          },
          "metadata": {},
          "execution_count": 12
        }
      ],
      "source": [
        "# load in pandas so we can create dataframs\n",
        "import pandas as pd\n",
        "\n",
        "# We need to create lists for each of the columns\n",
        "text = []\n",
        "lemma = []\n",
        "pos = []\n",
        "pymusas_tags = []\n",
        "\n",
        "# Now we need to open the file\n",
        "with open('Nile.txt') as f:\n",
        "    contents = f.read()\n",
        "\n",
        "    # We need to pass the contents of the file to the tagger\n",
        "    output_doc = nlp(contents)\n",
        "\n",
        "    # We need to loop over the output of the tagger and\n",
        "    # and add each element to the lists\n",
        "    for token in output_doc:\n",
        "        text.append(token.text)\n",
        "        lemma.append(token.lemma_)\n",
        "        pos.append(token.pos_)\n",
        "        pymusas_tags.append(token._.pymusas_tags)\n",
        "\n",
        "\n",
        "# We need to create the dataframe with the columns we will require.\n",
        "# and assign each list to a column\n",
        "df = pd.DataFrame({'Text': text,\n",
        "                   'Lemma': lemma,\n",
        "                   'POS': pos,\n",
        "                   'USAS_Tags': pymusas_tags\n",
        "                  })\n",
        "\n",
        "# Print out the dataframe so we can see it.\n",
        "# We should use 'print(df)' but 'df' displays\n",
        "# better in Jupyter:\n",
        "\n",
        "df"
      ]
    },
    {
      "cell_type": "markdown",
      "id": "8e420ef7-6815-4835-b056-9fafcf190974",
      "metadata": {
        "id": "8e420ef7-6815-4835-b056-9fafcf190974"
      },
      "source": [
        "## Tagging text inline"
      ]
    },
    {
      "cell_type": "markdown",
      "id": "dc9becdc-a8cf-4030-a384-c42313f86862",
      "metadata": {
        "id": "dc9becdc-a8cf-4030-a384-c42313f86862"
      },
      "source": [
        "One option we can place tags along side the text.\n",
        "\n",
        "In this example we place the POS tag alongside any text that is tagged as either a Noun (`NOUN`) or a Proper Noun (`PROPN`)."
      ]
    },
    {
      "cell_type": "code",
      "execution_count": 13,
      "id": "72c54663-c89f-4f6d-aa4d-2668f9c49ce3",
      "metadata": {
        "tags": [],
        "id": "72c54663-c89f-4f6d-aa4d-2668f9c49ce3",
        "outputId": "33967b10-22e7-4479-8d21-6be0612273e2",
        "colab": {
          "base_uri": "https://localhost:8080/",
          "height": 401
        }
      },
      "outputs": [
        {
          "output_type": "execute_result",
          "data": {
            "text/plain": [
              "<IPython.core.display.HTML object>"
            ],
            "text/html": [
              "<div class=\"entities\" style=\"line-height: 2.0; direction: ltr\"> The<bgr class=\"entity\" style=\"background:rgb(127,170,190) ; padding: 0.1em 0.1em; margin: 0 0.15em; border-radius: 0.23em;\">Nile<span style=\"font-size: 0.8em; font-weight: bold; border-radius: 0.35em; vertical-align: middle; margin-left: 0.5rem\">PROPN\n",
              "</span>\n",
              "</bgr> is a major<bgr class=\"entity\" style=\"background:rgb(134,153,120) ; padding: 0.1em 0.1em; margin: 0 0.15em; border-radius: 0.23em;\">north<span style=\"font-size: 0.8em; font-weight: bold; border-radius: 0.35em; vertical-align: middle; margin-left: 0.5rem\">NOUN\n",
              "</span>\n",
              "</bgr>- flowing<bgr class=\"entity\" style=\"background:rgb(134,153,120) ; padding: 0.1em 0.1em; margin: 0 0.15em; border-radius: 0.23em;\">river<span style=\"font-size: 0.8em; font-weight: bold; border-radius: 0.35em; vertical-align: middle; margin-left: 0.5rem\">NOUN\n",
              "</span>\n",
              "</bgr> in northeastern<bgr class=\"entity\" style=\"background:rgb(127,170,190) ; padding: 0.1em 0.1em; margin: 0 0.15em; border-radius: 0.23em;\">Africa<span style=\"font-size: 0.8em; font-weight: bold; border-radius: 0.35em; vertical-align: middle; margin-left: 0.5rem\">PROPN\n",
              "</span>\n",
              "</bgr>. It flows into the<bgr class=\"entity\" style=\"background:rgb(127,170,190) ; padding: 0.1em 0.1em; margin: 0 0.15em; border-radius: 0.23em;\">Mediterranean<span style=\"font-size: 0.8em; font-weight: bold; border-radius: 0.35em; vertical-align: middle; margin-left: 0.5rem\">PROPN\n",
              "</span>\n",
              "</bgr><bgr class=\"entity\" style=\"background:rgb(127,170,190) ; padding: 0.1em 0.1em; margin: 0 0.15em; border-radius: 0.23em;\">Sea<span style=\"font-size: 0.8em; font-weight: bold; border-radius: 0.35em; vertical-align: middle; margin-left: 0.5rem\">PROPN\n",
              "</span>\n",
              "</bgr>. The<bgr class=\"entity\" style=\"background:rgb(127,170,190) ; padding: 0.1em 0.1em; margin: 0 0.15em; border-radius: 0.23em;\">Nile<span style=\"font-size: 0.8em; font-weight: bold; border-radius: 0.35em; vertical-align: middle; margin-left: 0.5rem\">PROPN\n",
              "</span>\n",
              "</bgr> is the longest<bgr class=\"entity\" style=\"background:rgb(134,153,120) ; padding: 0.1em 0.1em; margin: 0 0.15em; border-radius: 0.23em;\">river<span style=\"font-size: 0.8em; font-weight: bold; border-radius: 0.35em; vertical-align: middle; margin-left: 0.5rem\">NOUN\n",
              "</span>\n",
              "</bgr> in<bgr class=\"entity\" style=\"background:rgb(127,170,190) ; padding: 0.1em 0.1em; margin: 0 0.15em; border-radius: 0.23em;\">Africa<span style=\"font-size: 0.8em; font-weight: bold; border-radius: 0.35em; vertical-align: middle; margin-left: 0.5rem\">PROPN\n",
              "</span>\n",
              "</bgr> and has historically been considered the longest<bgr class=\"entity\" style=\"background:rgb(134,153,120) ; padding: 0.1em 0.1em; margin: 0 0.15em; border-radius: 0.23em;\">river<span style=\"font-size: 0.8em; font-weight: bold; border-radius: 0.35em; vertical-align: middle; margin-left: 0.5rem\">NOUN\n",
              "</span>\n",
              "</bgr> in the<bgr class=\"entity\" style=\"background:rgb(134,153,120) ; padding: 0.1em 0.1em; margin: 0 0.15em; border-radius: 0.23em;\">world<span style=\"font-size: 0.8em; font-weight: bold; border-radius: 0.35em; vertical-align: middle; margin-left: 0.5rem\">NOUN\n",
              "</span>\n",
              "</bgr>, though this has been contested by<bgr class=\"entity\" style=\"background:rgb(134,153,120) ; padding: 0.1em 0.1em; margin: 0 0.15em; border-radius: 0.23em;\">research<span style=\"font-size: 0.8em; font-weight: bold; border-radius: 0.35em; vertical-align: middle; margin-left: 0.5rem\">NOUN\n",
              "</span>\n",
              "</bgr> suggesting that the<bgr class=\"entity\" style=\"background:rgb(127,170,190) ; padding: 0.1em 0.1em; margin: 0 0.15em; border-radius: 0.23em;\">Amazon<span style=\"font-size: 0.8em; font-weight: bold; border-radius: 0.35em; vertical-align: middle; margin-left: 0.5rem\">PROPN\n",
              "</span>\n",
              "</bgr><bgr class=\"entity\" style=\"background:rgb(127,170,190) ; padding: 0.1em 0.1em; margin: 0 0.15em; border-radius: 0.23em;\">River<span style=\"font-size: 0.8em; font-weight: bold; border-radius: 0.35em; vertical-align: middle; margin-left: 0.5rem\">PROPN\n",
              "</span>\n",
              "</bgr> is slightly longer. Of the<bgr class=\"entity\" style=\"background:rgb(134,153,120) ; padding: 0.1em 0.1em; margin: 0 0.15em; border-radius: 0.23em;\">world<span style=\"font-size: 0.8em; font-weight: bold; border-radius: 0.35em; vertical-align: middle; margin-left: 0.5rem\">NOUN\n",
              "</span>\n",
              "</bgr> 's major<bgr class=\"entity\" style=\"background:rgb(134,153,120) ; padding: 0.1em 0.1em; margin: 0 0.15em; border-radius: 0.23em;\">rivers<span style=\"font-size: 0.8em; font-weight: bold; border-radius: 0.35em; vertical-align: middle; margin-left: 0.5rem\">NOUN\n",
              "</span>\n",
              "</bgr>, the<bgr class=\"entity\" style=\"background:rgb(127,170,190) ; padding: 0.1em 0.1em; margin: 0 0.15em; border-radius: 0.23em;\">Nile<span style=\"font-size: 0.8em; font-weight: bold; border-radius: 0.35em; vertical-align: middle; margin-left: 0.5rem\">PROPN\n",
              "</span>\n",
              "</bgr> is one of the smallest, as measured by annual<bgr class=\"entity\" style=\"background:rgb(134,153,120) ; padding: 0.1em 0.1em; margin: 0 0.15em; border-radius: 0.23em;\">flow<span style=\"font-size: 0.8em; font-weight: bold; border-radius: 0.35em; vertical-align: middle; margin-left: 0.5rem\">NOUN\n",
              "</span>\n",
              "</bgr> in cubic<bgr class=\"entity\" style=\"background:rgb(134,153,120) ; padding: 0.1em 0.1em; margin: 0 0.15em; border-radius: 0.23em;\">metres<span style=\"font-size: 0.8em; font-weight: bold; border-radius: 0.35em; vertical-align: middle; margin-left: 0.5rem\">NOUN\n",
              "</span>\n",
              "</bgr> of<bgr class=\"entity\" style=\"background:rgb(134,153,120) ; padding: 0.1em 0.1em; margin: 0 0.15em; border-radius: 0.23em;\">water<span style=\"font-size: 0.8em; font-weight: bold; border-radius: 0.35em; vertical-align: middle; margin-left: 0.5rem\">NOUN\n",
              "</span>\n",
              "</bgr>. About 6,650<bgr class=\"entity\" style=\"background:rgb(134,153,120) ; padding: 0.1em 0.1em; margin: 0 0.15em; border-radius: 0.23em;\">km<span style=\"font-size: 0.8em; font-weight: bold; border-radius: 0.35em; vertical-align: middle; margin-left: 0.5rem\">NOUN\n",
              "</span>\n",
              "</bgr>( 4,130<bgr class=\"entity\" style=\"background:rgb(134,153,120) ; padding: 0.1em 0.1em; margin: 0 0.15em; border-radius: 0.23em;\">mi<span style=\"font-size: 0.8em; font-weight: bold; border-radius: 0.35em; vertical-align: middle; margin-left: 0.5rem\">NOUN\n",
              "</span>\n",
              "</bgr>) long, its<bgr class=\"entity\" style=\"background:rgb(134,153,120) ; padding: 0.1em 0.1em; margin: 0 0.15em; border-radius: 0.23em;\">drainage<span style=\"font-size: 0.8em; font-weight: bold; border-radius: 0.35em; vertical-align: middle; margin-left: 0.5rem\">NOUN\n",
              "</span>\n",
              "</bgr><bgr class=\"entity\" style=\"background:rgb(134,153,120) ; padding: 0.1em 0.1em; margin: 0 0.15em; border-radius: 0.23em;\">basin<span style=\"font-size: 0.8em; font-weight: bold; border-radius: 0.35em; vertical-align: middle; margin-left: 0.5rem\">NOUN\n",
              "</span>\n",
              "</bgr> covers eleven<bgr class=\"entity\" style=\"background:rgb(134,153,120) ; padding: 0.1em 0.1em; margin: 0 0.15em; border-radius: 0.23em;\">countries<span style=\"font-size: 0.8em; font-weight: bold; border-radius: 0.35em; vertical-align: middle; margin-left: 0.5rem\">NOUN\n",
              "</span>\n",
              "</bgr>: the<bgr class=\"entity\" style=\"background:rgb(127,170,190) ; padding: 0.1em 0.1em; margin: 0 0.15em; border-radius: 0.23em;\">Democratic<span style=\"font-size: 0.8em; font-weight: bold; border-radius: 0.35em; vertical-align: middle; margin-left: 0.5rem\">PROPN\n",
              "</span>\n",
              "</bgr><bgr class=\"entity\" style=\"background:rgb(127,170,190) ; padding: 0.1em 0.1em; margin: 0 0.15em; border-radius: 0.23em;\">Republic<span style=\"font-size: 0.8em; font-weight: bold; border-radius: 0.35em; vertical-align: middle; margin-left: 0.5rem\">PROPN\n",
              "</span>\n",
              "</bgr> of the<bgr class=\"entity\" style=\"background:rgb(127,170,190) ; padding: 0.1em 0.1em; margin: 0 0.15em; border-radius: 0.23em;\">Congo<span style=\"font-size: 0.8em; font-weight: bold; border-radius: 0.35em; vertical-align: middle; margin-left: 0.5rem\">PROPN\n",
              "</span>\n",
              "</bgr>,<bgr class=\"entity\" style=\"background:rgb(127,170,190) ; padding: 0.1em 0.1em; margin: 0 0.15em; border-radius: 0.23em;\">Tanzania<span style=\"font-size: 0.8em; font-weight: bold; border-radius: 0.35em; vertical-align: middle; margin-left: 0.5rem\">PROPN\n",
              "</span>\n",
              "</bgr>,<bgr class=\"entity\" style=\"background:rgb(127,170,190) ; padding: 0.1em 0.1em; margin: 0 0.15em; border-radius: 0.23em;\">Burundi<span style=\"font-size: 0.8em; font-weight: bold; border-radius: 0.35em; vertical-align: middle; margin-left: 0.5rem\">PROPN\n",
              "</span>\n",
              "</bgr>,<bgr class=\"entity\" style=\"background:rgb(127,170,190) ; padding: 0.1em 0.1em; margin: 0 0.15em; border-radius: 0.23em;\">Rwanda<span style=\"font-size: 0.8em; font-weight: bold; border-radius: 0.35em; vertical-align: middle; margin-left: 0.5rem\">PROPN\n",
              "</span>\n",
              "</bgr>,<bgr class=\"entity\" style=\"background:rgb(127,170,190) ; padding: 0.1em 0.1em; margin: 0 0.15em; border-radius: 0.23em;\">Uganda<span style=\"font-size: 0.8em; font-weight: bold; border-radius: 0.35em; vertical-align: middle; margin-left: 0.5rem\">PROPN\n",
              "</span>\n",
              "</bgr>,<bgr class=\"entity\" style=\"background:rgb(127,170,190) ; padding: 0.1em 0.1em; margin: 0 0.15em; border-radius: 0.23em;\">Kenya<span style=\"font-size: 0.8em; font-weight: bold; border-radius: 0.35em; vertical-align: middle; margin-left: 0.5rem\">PROPN\n",
              "</span>\n",
              "</bgr>,<bgr class=\"entity\" style=\"background:rgb(127,170,190) ; padding: 0.1em 0.1em; margin: 0 0.15em; border-radius: 0.23em;\">Ethiopia<span style=\"font-size: 0.8em; font-weight: bold; border-radius: 0.35em; vertical-align: middle; margin-left: 0.5rem\">PROPN\n",
              "</span>\n",
              "</bgr>,<bgr class=\"entity\" style=\"background:rgb(127,170,190) ; padding: 0.1em 0.1em; margin: 0 0.15em; border-radius: 0.23em;\">Eritrea<span style=\"font-size: 0.8em; font-weight: bold; border-radius: 0.35em; vertical-align: middle; margin-left: 0.5rem\">PROPN\n",
              "</span>\n",
              "</bgr>,<bgr class=\"entity\" style=\"background:rgb(127,170,190) ; padding: 0.1em 0.1em; margin: 0 0.15em; border-radius: 0.23em;\">South<span style=\"font-size: 0.8em; font-weight: bold; border-radius: 0.35em; vertical-align: middle; margin-left: 0.5rem\">PROPN\n",
              "</span>\n",
              "</bgr><bgr class=\"entity\" style=\"background:rgb(127,170,190) ; padding: 0.1em 0.1em; margin: 0 0.15em; border-radius: 0.23em;\">Sudan<span style=\"font-size: 0.8em; font-weight: bold; border-radius: 0.35em; vertical-align: middle; margin-left: 0.5rem\">PROPN\n",
              "</span>\n",
              "</bgr>,<bgr class=\"entity\" style=\"background:rgb(127,170,190) ; padding: 0.1em 0.1em; margin: 0 0.15em; border-radius: 0.23em;\">Republic<span style=\"font-size: 0.8em; font-weight: bold; border-radius: 0.35em; vertical-align: middle; margin-left: 0.5rem\">PROPN\n",
              "</span>\n",
              "</bgr> of the<bgr class=\"entity\" style=\"background:rgb(127,170,190) ; padding: 0.1em 0.1em; margin: 0 0.15em; border-radius: 0.23em;\">Sudan<span style=\"font-size: 0.8em; font-weight: bold; border-radius: 0.35em; vertical-align: middle; margin-left: 0.5rem\">PROPN\n",
              "</span>\n",
              "</bgr>, and<bgr class=\"entity\" style=\"background:rgb(127,170,190) ; padding: 0.1em 0.1em; margin: 0 0.15em; border-radius: 0.23em;\">Egypt<span style=\"font-size: 0.8em; font-weight: bold; border-radius: 0.35em; vertical-align: middle; margin-left: 0.5rem\">PROPN\n",
              "</span>\n",
              "</bgr>. In particular, the<bgr class=\"entity\" style=\"background:rgb(127,170,190) ; padding: 0.1em 0.1em; margin: 0 0.15em; border-radius: 0.23em;\">Nile<span style=\"font-size: 0.8em; font-weight: bold; border-radius: 0.35em; vertical-align: middle; margin-left: 0.5rem\">PROPN\n",
              "</span>\n",
              "</bgr> is the primary<bgr class=\"entity\" style=\"background:rgb(134,153,120) ; padding: 0.1em 0.1em; margin: 0 0.15em; border-radius: 0.23em;\">water<span style=\"font-size: 0.8em; font-weight: bold; border-radius: 0.35em; vertical-align: middle; margin-left: 0.5rem\">NOUN\n",
              "</span>\n",
              "</bgr><bgr class=\"entity\" style=\"background:rgb(134,153,120) ; padding: 0.1em 0.1em; margin: 0 0.15em; border-radius: 0.23em;\">source<span style=\"font-size: 0.8em; font-weight: bold; border-radius: 0.35em; vertical-align: middle; margin-left: 0.5rem\">NOUN\n",
              "</span>\n",
              "</bgr> of<bgr class=\"entity\" style=\"background:rgb(127,170,190) ; padding: 0.1em 0.1em; margin: 0 0.15em; border-radius: 0.23em;\">Egypt<span style=\"font-size: 0.8em; font-weight: bold; border-radius: 0.35em; vertical-align: middle; margin-left: 0.5rem\">PROPN\n",
              "</span>\n",
              "</bgr>,<bgr class=\"entity\" style=\"background:rgb(127,170,190) ; padding: 0.1em 0.1em; margin: 0 0.15em; border-radius: 0.23em;\">Sudan<span style=\"font-size: 0.8em; font-weight: bold; border-radius: 0.35em; vertical-align: middle; margin-left: 0.5rem\">PROPN\n",
              "</span>\n",
              "</bgr> and<bgr class=\"entity\" style=\"background:rgb(127,170,190) ; padding: 0.1em 0.1em; margin: 0 0.15em; border-radius: 0.23em;\">South<span style=\"font-size: 0.8em; font-weight: bold; border-radius: 0.35em; vertical-align: middle; margin-left: 0.5rem\">PROPN\n",
              "</span>\n",
              "</bgr><bgr class=\"entity\" style=\"background:rgb(127,170,190) ; padding: 0.1em 0.1em; margin: 0 0.15em; border-radius: 0.23em;\">Sudan<span style=\"font-size: 0.8em; font-weight: bold; border-radius: 0.35em; vertical-align: middle; margin-left: 0.5rem\">PROPN\n",
              "</span>\n",
              "</bgr>. Additionally, the<bgr class=\"entity\" style=\"background:rgb(127,170,190) ; padding: 0.1em 0.1em; margin: 0 0.15em; border-radius: 0.23em;\">Nile<span style=\"font-size: 0.8em; font-weight: bold; border-radius: 0.35em; vertical-align: middle; margin-left: 0.5rem\">PROPN\n",
              "</span>\n",
              "</bgr> is an important economic<bgr class=\"entity\" style=\"background:rgb(134,153,120) ; padding: 0.1em 0.1em; margin: 0 0.15em; border-radius: 0.23em;\">river<span style=\"font-size: 0.8em; font-weight: bold; border-radius: 0.35em; vertical-align: middle; margin-left: 0.5rem\">NOUN\n",
              "</span>\n",
              "</bgr>, supporting<bgr class=\"entity\" style=\"background:rgb(134,153,120) ; padding: 0.1em 0.1em; margin: 0 0.15em; border-radius: 0.23em;\">agriculture<span style=\"font-size: 0.8em; font-weight: bold; border-radius: 0.35em; vertical-align: middle; margin-left: 0.5rem\">NOUN\n",
              "</span>\n",
              "</bgr> and<bgr class=\"entity\" style=\"background:rgb(134,153,120) ; padding: 0.1em 0.1em; margin: 0 0.15em; border-radius: 0.23em;\">fishing<span style=\"font-size: 0.8em; font-weight: bold; border-radius: 0.35em; vertical-align: middle; margin-left: 0.5rem\">NOUN\n",
              "</span>\n",
              "</bgr>. \n",
              "\n",
              " The<bgr class=\"entity\" style=\"background:rgb(127,170,190) ; padding: 0.1em 0.1em; margin: 0 0.15em; border-radius: 0.23em;\">Nile<span style=\"font-size: 0.8em; font-weight: bold; border-radius: 0.35em; vertical-align: middle; margin-left: 0.5rem\">PROPN\n",
              "</span>\n",
              "</bgr> has two major<bgr class=\"entity\" style=\"background:rgb(134,153,120) ; padding: 0.1em 0.1em; margin: 0 0.15em; border-radius: 0.23em;\">tributaries<span style=\"font-size: 0.8em; font-weight: bold; border-radius: 0.35em; vertical-align: middle; margin-left: 0.5rem\">NOUN\n",
              "</span>\n",
              "</bgr>– the<bgr class=\"entity\" style=\"background:rgb(127,170,190) ; padding: 0.1em 0.1em; margin: 0 0.15em; border-radius: 0.23em;\">White<span style=\"font-size: 0.8em; font-weight: bold; border-radius: 0.35em; vertical-align: middle; margin-left: 0.5rem\">PROPN\n",
              "</span>\n",
              "</bgr><bgr class=\"entity\" style=\"background:rgb(127,170,190) ; padding: 0.1em 0.1em; margin: 0 0.15em; border-radius: 0.23em;\">Nile<span style=\"font-size: 0.8em; font-weight: bold; border-radius: 0.35em; vertical-align: middle; margin-left: 0.5rem\">PROPN\n",
              "</span>\n",
              "</bgr> and the<bgr class=\"entity\" style=\"background:rgb(127,170,190) ; padding: 0.1em 0.1em; margin: 0 0.15em; border-radius: 0.23em;\">Blue<span style=\"font-size: 0.8em; font-weight: bold; border-radius: 0.35em; vertical-align: middle; margin-left: 0.5rem\">PROPN\n",
              "</span>\n",
              "</bgr><bgr class=\"entity\" style=\"background:rgb(127,170,190) ; padding: 0.1em 0.1em; margin: 0 0.15em; border-radius: 0.23em;\">Nile<span style=\"font-size: 0.8em; font-weight: bold; border-radius: 0.35em; vertical-align: middle; margin-left: 0.5rem\">PROPN\n",
              "</span>\n",
              "</bgr>. The<bgr class=\"entity\" style=\"background:rgb(127,170,190) ; padding: 0.1em 0.1em; margin: 0 0.15em; border-radius: 0.23em;\">White<span style=\"font-size: 0.8em; font-weight: bold; border-radius: 0.35em; vertical-align: middle; margin-left: 0.5rem\">PROPN\n",
              "</span>\n",
              "</bgr><bgr class=\"entity\" style=\"background:rgb(127,170,190) ; padding: 0.1em 0.1em; margin: 0 0.15em; border-radius: 0.23em;\">Nile<span style=\"font-size: 0.8em; font-weight: bold; border-radius: 0.35em; vertical-align: middle; margin-left: 0.5rem\">PROPN\n",
              "</span>\n",
              "</bgr> is traditionally considered to be the<bgr class=\"entity\" style=\"background:rgb(134,153,120) ; padding: 0.1em 0.1em; margin: 0 0.15em; border-radius: 0.23em;\">headwaters<span style=\"font-size: 0.8em; font-weight: bold; border-radius: 0.35em; vertical-align: middle; margin-left: 0.5rem\">NOUN\n",
              "</span>\n",
              "</bgr> stream. However, the<bgr class=\"entity\" style=\"background:rgb(127,170,190) ; padding: 0.1em 0.1em; margin: 0 0.15em; border-radius: 0.23em;\">Blue<span style=\"font-size: 0.8em; font-weight: bold; border-radius: 0.35em; vertical-align: middle; margin-left: 0.5rem\">PROPN\n",
              "</span>\n",
              "</bgr><bgr class=\"entity\" style=\"background:rgb(127,170,190) ; padding: 0.1em 0.1em; margin: 0 0.15em; border-radius: 0.23em;\">Nile<span style=\"font-size: 0.8em; font-weight: bold; border-radius: 0.35em; vertical-align: middle; margin-left: 0.5rem\">PROPN\n",
              "</span>\n",
              "</bgr> is the<bgr class=\"entity\" style=\"background:rgb(134,153,120) ; padding: 0.1em 0.1em; margin: 0 0.15em; border-radius: 0.23em;\">source<span style=\"font-size: 0.8em; font-weight: bold; border-radius: 0.35em; vertical-align: middle; margin-left: 0.5rem\">NOUN\n",
              "</span>\n",
              "</bgr> of most of the<bgr class=\"entity\" style=\"background:rgb(134,153,120) ; padding: 0.1em 0.1em; margin: 0 0.15em; border-radius: 0.23em;\">water<span style=\"font-size: 0.8em; font-weight: bold; border-radius: 0.35em; vertical-align: middle; margin-left: 0.5rem\">NOUN\n",
              "</span>\n",
              "</bgr> of the<bgr class=\"entity\" style=\"background:rgb(127,170,190) ; padding: 0.1em 0.1em; margin: 0 0.15em; border-radius: 0.23em;\">Nile<span style=\"font-size: 0.8em; font-weight: bold; border-radius: 0.35em; vertical-align: middle; margin-left: 0.5rem\">PROPN\n",
              "</span>\n",
              "</bgr> downstream, containing 80<bgr class=\"entity\" style=\"background:rgb(134,153,120) ; padding: 0.1em 0.1em; margin: 0 0.15em; border-radius: 0.23em;\">%<span style=\"font-size: 0.8em; font-weight: bold; border-radius: 0.35em; vertical-align: middle; margin-left: 0.5rem\">NOUN\n",
              "</span>\n",
              "</bgr> of the<bgr class=\"entity\" style=\"background:rgb(134,153,120) ; padding: 0.1em 0.1em; margin: 0 0.15em; border-radius: 0.23em;\">water<span style=\"font-size: 0.8em; font-weight: bold; border-radius: 0.35em; vertical-align: middle; margin-left: 0.5rem\">NOUN\n",
              "</span>\n",
              "</bgr> and<bgr class=\"entity\" style=\"background:rgb(134,153,120) ; padding: 0.1em 0.1em; margin: 0 0.15em; border-radius: 0.23em;\">silt<span style=\"font-size: 0.8em; font-weight: bold; border-radius: 0.35em; vertical-align: middle; margin-left: 0.5rem\">NOUN\n",
              "</span>\n",
              "</bgr>. The<bgr class=\"entity\" style=\"background:rgb(127,170,190) ; padding: 0.1em 0.1em; margin: 0 0.15em; border-radius: 0.23em;\">White<span style=\"font-size: 0.8em; font-weight: bold; border-radius: 0.35em; vertical-align: middle; margin-left: 0.5rem\">PROPN\n",
              "</span>\n",
              "</bgr><bgr class=\"entity\" style=\"background:rgb(127,170,190) ; padding: 0.1em 0.1em; margin: 0 0.15em; border-radius: 0.23em;\">Nile<span style=\"font-size: 0.8em; font-weight: bold; border-radius: 0.35em; vertical-align: middle; margin-left: 0.5rem\">PROPN\n",
              "</span>\n",
              "</bgr> is longer and rises in the<bgr class=\"entity\" style=\"background:rgb(127,170,190) ; padding: 0.1em 0.1em; margin: 0 0.15em; border-radius: 0.23em;\">Great<span style=\"font-size: 0.8em; font-weight: bold; border-radius: 0.35em; vertical-align: middle; margin-left: 0.5rem\">PROPN\n",
              "</span>\n",
              "</bgr><bgr class=\"entity\" style=\"background:rgb(127,170,190) ; padding: 0.1em 0.1em; margin: 0 0.15em; border-radius: 0.23em;\">Lakes<span style=\"font-size: 0.8em; font-weight: bold; border-radius: 0.35em; vertical-align: middle; margin-left: 0.5rem\">PROPN\n",
              "</span>\n",
              "</bgr><bgr class=\"entity\" style=\"background:rgb(134,153,120) ; padding: 0.1em 0.1em; margin: 0 0.15em; border-radius: 0.23em;\">region<span style=\"font-size: 0.8em; font-weight: bold; border-radius: 0.35em; vertical-align: middle; margin-left: 0.5rem\">NOUN\n",
              "</span>\n",
              "</bgr>. It begins at<bgr class=\"entity\" style=\"background:rgb(127,170,190) ; padding: 0.1em 0.1em; margin: 0 0.15em; border-radius: 0.23em;\">Lake<span style=\"font-size: 0.8em; font-weight: bold; border-radius: 0.35em; vertical-align: middle; margin-left: 0.5rem\">PROPN\n",
              "</span>\n",
              "</bgr><bgr class=\"entity\" style=\"background:rgb(127,170,190) ; padding: 0.1em 0.1em; margin: 0 0.15em; border-radius: 0.23em;\">Victoria<span style=\"font-size: 0.8em; font-weight: bold; border-radius: 0.35em; vertical-align: middle; margin-left: 0.5rem\">PROPN\n",
              "</span>\n",
              "</bgr> and flows through<bgr class=\"entity\" style=\"background:rgb(127,170,190) ; padding: 0.1em 0.1em; margin: 0 0.15em; border-radius: 0.23em;\">Uganda<span style=\"font-size: 0.8em; font-weight: bold; border-radius: 0.35em; vertical-align: middle; margin-left: 0.5rem\">PROPN\n",
              "</span>\n",
              "</bgr> and<bgr class=\"entity\" style=\"background:rgb(127,170,190) ; padding: 0.1em 0.1em; margin: 0 0.15em; border-radius: 0.23em;\">South<span style=\"font-size: 0.8em; font-weight: bold; border-radius: 0.35em; vertical-align: middle; margin-left: 0.5rem\">PROPN\n",
              "</span>\n",
              "</bgr><bgr class=\"entity\" style=\"background:rgb(127,170,190) ; padding: 0.1em 0.1em; margin: 0 0.15em; border-radius: 0.23em;\">Sudan<span style=\"font-size: 0.8em; font-weight: bold; border-radius: 0.35em; vertical-align: middle; margin-left: 0.5rem\">PROPN\n",
              "</span>\n",
              "</bgr>. The<bgr class=\"entity\" style=\"background:rgb(127,170,190) ; padding: 0.1em 0.1em; margin: 0 0.15em; border-radius: 0.23em;\">Blue<span style=\"font-size: 0.8em; font-weight: bold; border-radius: 0.35em; vertical-align: middle; margin-left: 0.5rem\">PROPN\n",
              "</span>\n",
              "</bgr><bgr class=\"entity\" style=\"background:rgb(127,170,190) ; padding: 0.1em 0.1em; margin: 0 0.15em; border-radius: 0.23em;\">Nile<span style=\"font-size: 0.8em; font-weight: bold; border-radius: 0.35em; vertical-align: middle; margin-left: 0.5rem\">PROPN\n",
              "</span>\n",
              "</bgr> begins at<bgr class=\"entity\" style=\"background:rgb(127,170,190) ; padding: 0.1em 0.1em; margin: 0 0.15em; border-radius: 0.23em;\">Lake<span style=\"font-size: 0.8em; font-weight: bold; border-radius: 0.35em; vertical-align: middle; margin-left: 0.5rem\">PROPN\n",
              "</span>\n",
              "</bgr><bgr class=\"entity\" style=\"background:rgb(127,170,190) ; padding: 0.1em 0.1em; margin: 0 0.15em; border-radius: 0.23em;\">Tana<span style=\"font-size: 0.8em; font-weight: bold; border-radius: 0.35em; vertical-align: middle; margin-left: 0.5rem\">PROPN\n",
              "</span>\n",
              "</bgr> in<bgr class=\"entity\" style=\"background:rgb(127,170,190) ; padding: 0.1em 0.1em; margin: 0 0.15em; border-radius: 0.23em;\">Ethiopia<span style=\"font-size: 0.8em; font-weight: bold; border-radius: 0.35em; vertical-align: middle; margin-left: 0.5rem\">PROPN\n",
              "</span>\n",
              "</bgr> and flows into<bgr class=\"entity\" style=\"background:rgb(127,170,190) ; padding: 0.1em 0.1em; margin: 0 0.15em; border-radius: 0.23em;\">Sudan<span style=\"font-size: 0.8em; font-weight: bold; border-radius: 0.35em; vertical-align: middle; margin-left: 0.5rem\">PROPN\n",
              "</span>\n",
              "</bgr> from the<bgr class=\"entity\" style=\"background:rgb(134,153,120) ; padding: 0.1em 0.1em; margin: 0 0.15em; border-radius: 0.23em;\">southeast<span style=\"font-size: 0.8em; font-weight: bold; border-radius: 0.35em; vertical-align: middle; margin-left: 0.5rem\">NOUN\n",
              "</span>\n",
              "</bgr>. The two<bgr class=\"entity\" style=\"background:rgb(134,153,120) ; padding: 0.1em 0.1em; margin: 0 0.15em; border-radius: 0.23em;\">rivers<span style=\"font-size: 0.8em; font-weight: bold; border-radius: 0.35em; vertical-align: middle; margin-left: 0.5rem\">NOUN\n",
              "</span>\n",
              "</bgr> meet at the Sudanese<bgr class=\"entity\" style=\"background:rgb(134,153,120) ; padding: 0.1em 0.1em; margin: 0 0.15em; border-radius: 0.23em;\">capital<span style=\"font-size: 0.8em; font-weight: bold; border-radius: 0.35em; vertical-align: middle; margin-left: 0.5rem\">NOUN\n",
              "</span>\n",
              "</bgr> of<bgr class=\"entity\" style=\"background:rgb(127,170,190) ; padding: 0.1em 0.1em; margin: 0 0.15em; border-radius: 0.23em;\">Khartoum<span style=\"font-size: 0.8em; font-weight: bold; border-radius: 0.35em; vertical-align: middle; margin-left: 0.5rem\">PROPN\n",
              "</span>\n",
              "</bgr>. \n",
              "\n",
              " The northern<bgr class=\"entity\" style=\"background:rgb(134,153,120) ; padding: 0.1em 0.1em; margin: 0 0.15em; border-radius: 0.23em;\">section<span style=\"font-size: 0.8em; font-weight: bold; border-radius: 0.35em; vertical-align: middle; margin-left: 0.5rem\">NOUN\n",
              "</span>\n",
              "</bgr> of the<bgr class=\"entity\" style=\"background:rgb(134,153,120) ; padding: 0.1em 0.1em; margin: 0 0.15em; border-radius: 0.23em;\">river<span style=\"font-size: 0.8em; font-weight: bold; border-radius: 0.35em; vertical-align: middle; margin-left: 0.5rem\">NOUN\n",
              "</span>\n",
              "</bgr> flows north almost entirely through the<bgr class=\"entity\" style=\"background:rgb(127,170,190) ; padding: 0.1em 0.1em; margin: 0 0.15em; border-radius: 0.23em;\">Nubian<span style=\"font-size: 0.8em; font-weight: bold; border-radius: 0.35em; vertical-align: middle; margin-left: 0.5rem\">PROPN\n",
              "</span>\n",
              "</bgr><bgr class=\"entity\" style=\"background:rgb(127,170,190) ; padding: 0.1em 0.1em; margin: 0 0.15em; border-radius: 0.23em;\">Desert<span style=\"font-size: 0.8em; font-weight: bold; border-radius: 0.35em; vertical-align: middle; margin-left: 0.5rem\">PROPN\n",
              "</span>\n",
              "</bgr> to<bgr class=\"entity\" style=\"background:rgb(127,170,190) ; padding: 0.1em 0.1em; margin: 0 0.15em; border-radius: 0.23em;\">Cairo<span style=\"font-size: 0.8em; font-weight: bold; border-radius: 0.35em; vertical-align: middle; margin-left: 0.5rem\">PROPN\n",
              "</span>\n",
              "</bgr> and its large<bgr class=\"entity\" style=\"background:rgb(134,153,120) ; padding: 0.1em 0.1em; margin: 0 0.15em; border-radius: 0.23em;\">delta<span style=\"font-size: 0.8em; font-weight: bold; border-radius: 0.35em; vertical-align: middle; margin-left: 0.5rem\">NOUN\n",
              "</span>\n",
              "</bgr>, and the<bgr class=\"entity\" style=\"background:rgb(134,153,120) ; padding: 0.1em 0.1em; margin: 0 0.15em; border-radius: 0.23em;\">river<span style=\"font-size: 0.8em; font-weight: bold; border-radius: 0.35em; vertical-align: middle; margin-left: 0.5rem\">NOUN\n",
              "</span>\n",
              "</bgr> flows into the<bgr class=\"entity\" style=\"background:rgb(127,170,190) ; padding: 0.1em 0.1em; margin: 0 0.15em; border-radius: 0.23em;\">Mediterranean<span style=\"font-size: 0.8em; font-weight: bold; border-radius: 0.35em; vertical-align: middle; margin-left: 0.5rem\">PROPN\n",
              "</span>\n",
              "</bgr><bgr class=\"entity\" style=\"background:rgb(127,170,190) ; padding: 0.1em 0.1em; margin: 0 0.15em; border-radius: 0.23em;\">Sea<span style=\"font-size: 0.8em; font-weight: bold; border-radius: 0.35em; vertical-align: middle; margin-left: 0.5rem\">PROPN\n",
              "</span>\n",
              "</bgr> at<bgr class=\"entity\" style=\"background:rgb(127,170,190) ; padding: 0.1em 0.1em; margin: 0 0.15em; border-radius: 0.23em;\">Alexandria<span style=\"font-size: 0.8em; font-weight: bold; border-radius: 0.35em; vertical-align: middle; margin-left: 0.5rem\">PROPN\n",
              "</span>\n",
              "</bgr>. Egyptian<bgr class=\"entity\" style=\"background:rgb(134,153,120) ; padding: 0.1em 0.1em; margin: 0 0.15em; border-radius: 0.23em;\">civilization<span style=\"font-size: 0.8em; font-weight: bold; border-radius: 0.35em; vertical-align: middle; margin-left: 0.5rem\">NOUN\n",
              "</span>\n",
              "</bgr> and Sudanese<bgr class=\"entity\" style=\"background:rgb(134,153,120) ; padding: 0.1em 0.1em; margin: 0 0.15em; border-radius: 0.23em;\">kingdoms<span style=\"font-size: 0.8em; font-weight: bold; border-radius: 0.35em; vertical-align: middle; margin-left: 0.5rem\">NOUN\n",
              "</span>\n",
              "</bgr> have depended on the<bgr class=\"entity\" style=\"background:rgb(134,153,120) ; padding: 0.1em 0.1em; margin: 0 0.15em; border-radius: 0.23em;\">river<span style=\"font-size: 0.8em; font-weight: bold; border-radius: 0.35em; vertical-align: middle; margin-left: 0.5rem\">NOUN\n",
              "</span>\n",
              "</bgr> and its annual<bgr class=\"entity\" style=\"background:rgb(134,153,120) ; padding: 0.1em 0.1em; margin: 0 0.15em; border-radius: 0.23em;\">flooding<span style=\"font-size: 0.8em; font-weight: bold; border-radius: 0.35em; vertical-align: middle; margin-left: 0.5rem\">NOUN\n",
              "</span>\n",
              "</bgr> since ancient<bgr class=\"entity\" style=\"background:rgb(134,153,120) ; padding: 0.1em 0.1em; margin: 0 0.15em; border-radius: 0.23em;\">times<span style=\"font-size: 0.8em; font-weight: bold; border-radius: 0.35em; vertical-align: middle; margin-left: 0.5rem\">NOUN\n",
              "</span>\n",
              "</bgr>. Most of the<bgr class=\"entity\" style=\"background:rgb(134,153,120) ; padding: 0.1em 0.1em; margin: 0 0.15em; border-radius: 0.23em;\">population<span style=\"font-size: 0.8em; font-weight: bold; border-radius: 0.35em; vertical-align: middle; margin-left: 0.5rem\">NOUN\n",
              "</span>\n",
              "</bgr> and<bgr class=\"entity\" style=\"background:rgb(134,153,120) ; padding: 0.1em 0.1em; margin: 0 0.15em; border-radius: 0.23em;\">cities<span style=\"font-size: 0.8em; font-weight: bold; border-radius: 0.35em; vertical-align: middle; margin-left: 0.5rem\">NOUN\n",
              "</span>\n",
              "</bgr> of<bgr class=\"entity\" style=\"background:rgb(127,170,190) ; padding: 0.1em 0.1em; margin: 0 0.15em; border-radius: 0.23em;\">Egypt<span style=\"font-size: 0.8em; font-weight: bold; border-radius: 0.35em; vertical-align: middle; margin-left: 0.5rem\">PROPN\n",
              "</span>\n",
              "</bgr> lie along those<bgr class=\"entity\" style=\"background:rgb(134,153,120) ; padding: 0.1em 0.1em; margin: 0 0.15em; border-radius: 0.23em;\">parts<span style=\"font-size: 0.8em; font-weight: bold; border-radius: 0.35em; vertical-align: middle; margin-left: 0.5rem\">NOUN\n",
              "</span>\n",
              "</bgr> of the<bgr class=\"entity\" style=\"background:rgb(127,170,190) ; padding: 0.1em 0.1em; margin: 0 0.15em; border-radius: 0.23em;\">Nile<span style=\"font-size: 0.8em; font-weight: bold; border-radius: 0.35em; vertical-align: middle; margin-left: 0.5rem\">PROPN\n",
              "</span>\n",
              "</bgr><bgr class=\"entity\" style=\"background:rgb(134,153,120) ; padding: 0.1em 0.1em; margin: 0 0.15em; border-radius: 0.23em;\">valley<span style=\"font-size: 0.8em; font-weight: bold; border-radius: 0.35em; vertical-align: middle; margin-left: 0.5rem\">NOUN\n",
              "</span>\n",
              "</bgr> north of the<bgr class=\"entity\" style=\"background:rgb(127,170,190) ; padding: 0.1em 0.1em; margin: 0 0.15em; border-radius: 0.23em;\">Aswan<span style=\"font-size: 0.8em; font-weight: bold; border-radius: 0.35em; vertical-align: middle; margin-left: 0.5rem\">PROPN\n",
              "</span>\n",
              "</bgr><bgr class=\"entity\" style=\"background:rgb(127,170,190) ; padding: 0.1em 0.1em; margin: 0 0.15em; border-radius: 0.23em;\">Dam<span style=\"font-size: 0.8em; font-weight: bold; border-radius: 0.35em; vertical-align: middle; margin-left: 0.5rem\">PROPN\n",
              "</span>\n",
              "</bgr>. Nearly all the cultural and historical<bgr class=\"entity\" style=\"background:rgb(134,153,120) ; padding: 0.1em 0.1em; margin: 0 0.15em; border-radius: 0.23em;\">sites<span style=\"font-size: 0.8em; font-weight: bold; border-radius: 0.35em; vertical-align: middle; margin-left: 0.5rem\">NOUN\n",
              "</span>\n",
              "</bgr> of<bgr class=\"entity\" style=\"background:rgb(127,170,190) ; padding: 0.1em 0.1em; margin: 0 0.15em; border-radius: 0.23em;\">Ancient<span style=\"font-size: 0.8em; font-weight: bold; border-radius: 0.35em; vertical-align: middle; margin-left: 0.5rem\">PROPN\n",
              "</span>\n",
              "</bgr><bgr class=\"entity\" style=\"background:rgb(127,170,190) ; padding: 0.1em 0.1em; margin: 0 0.15em; border-radius: 0.23em;\">Egypt<span style=\"font-size: 0.8em; font-weight: bold; border-radius: 0.35em; vertical-align: middle; margin-left: 0.5rem\">PROPN\n",
              "</span>\n",
              "</bgr> developed and are found along<bgr class=\"entity\" style=\"background:rgb(134,153,120) ; padding: 0.1em 0.1em; margin: 0 0.15em; border-radius: 0.23em;\">river<span style=\"font-size: 0.8em; font-weight: bold; border-radius: 0.35em; vertical-align: middle; margin-left: 0.5rem\">NOUN\n",
              "</span>\n",
              "</bgr><bgr class=\"entity\" style=\"background:rgb(134,153,120) ; padding: 0.1em 0.1em; margin: 0 0.15em; border-radius: 0.23em;\">banks<span style=\"font-size: 0.8em; font-weight: bold; border-radius: 0.35em; vertical-align: middle; margin-left: 0.5rem\">NOUN\n",
              "</span>\n",
              "</bgr>. The<bgr class=\"entity\" style=\"background:rgb(127,170,190) ; padding: 0.1em 0.1em; margin: 0 0.15em; border-radius: 0.23em;\">Nile<span style=\"font-size: 0.8em; font-weight: bold; border-radius: 0.35em; vertical-align: middle; margin-left: 0.5rem\">PROPN\n",
              "</span>\n",
              "</bgr> is, with the<bgr class=\"entity\" style=\"background:rgb(127,170,190) ; padding: 0.1em 0.1em; margin: 0 0.15em; border-radius: 0.23em;\">Rhône<span style=\"font-size: 0.8em; font-weight: bold; border-radius: 0.35em; vertical-align: middle; margin-left: 0.5rem\">PROPN\n",
              "</span>\n",
              "</bgr> and<bgr class=\"entity\" style=\"background:rgb(127,170,190) ; padding: 0.1em 0.1em; margin: 0 0.15em; border-radius: 0.23em;\">Po<span style=\"font-size: 0.8em; font-weight: bold; border-radius: 0.35em; vertical-align: middle; margin-left: 0.5rem\">PROPN\n",
              "</span>\n",
              "</bgr>, one of the three<bgr class=\"entity\" style=\"background:rgb(127,170,190) ; padding: 0.1em 0.1em; margin: 0 0.15em; border-radius: 0.23em;\">Mediterranean<span style=\"font-size: 0.8em; font-weight: bold; border-radius: 0.35em; vertical-align: middle; margin-left: 0.5rem\">PROPN\n",
              "</span>\n",
              "</bgr><bgr class=\"entity\" style=\"background:rgb(134,153,120) ; padding: 0.1em 0.1em; margin: 0 0.15em; border-radius: 0.23em;\">rivers<span style=\"font-size: 0.8em; font-weight: bold; border-radius: 0.35em; vertical-align: middle; margin-left: 0.5rem\">NOUN\n",
              "</span>\n",
              "</bgr> with the largest<bgr class=\"entity\" style=\"background:rgb(134,153,120) ; padding: 0.1em 0.1em; margin: 0 0.15em; border-radius: 0.23em;\">water<span style=\"font-size: 0.8em; font-weight: bold; border-radius: 0.35em; vertical-align: middle; margin-left: 0.5rem\">NOUN\n",
              "</span>\n",
              "</bgr><bgr class=\"entity\" style=\"background:rgb(134,153,120) ; padding: 0.1em 0.1em; margin: 0 0.15em; border-radius: 0.23em;\">discharge<span style=\"font-size: 0.8em; font-weight: bold; border-radius: 0.35em; vertical-align: middle; margin-left: 0.5rem\">NOUN\n",
              "</span>\n",
              "</bgr>.\n",
              "</div>"
            ]
          },
          "metadata": {},
          "execution_count": 13
        }
      ],
      "source": [
        "# We need to import a library that can display the text as HTML\n",
        "# so that we can mark it up as we want\n",
        "from IPython.display import HTML\n",
        "\n",
        "# Read in the text and store it as a variable\n",
        "example_text =  open('Nile.txt').read()\n",
        "\n",
        "# Pass the text through the tagger\n",
        "tagged_text = nlp(example_text)\n",
        "\n",
        "\n",
        "# We need to create a function that can take a token as input\n",
        "# and change its background colour, and add a tag type next to it.\n",
        "def mark_up(token, tags = None):\n",
        "    colours = [\n",
        "    \"134,153,120\",\n",
        "    \"127,170,190\",\n",
        "    \"194,103,99\",\n",
        "    \"227,203,139\",\n",
        "    \"225,171,108\",\n",
        "    ]\n",
        "    colour_lookup = dict(zip(tags, colours))\n",
        "\n",
        "    if token.pos_ in tags:\n",
        "        begin_bkgr = f'<bgr class=\"entity\" style=\"background:rgb({colour_lookup[token.pos_]}) ; padding: 0.1em 0.1em; margin: 0 0.15em; border-radius: 0.23em;\">'\n",
        "        end_bkgr = '\\n</bgr>'\n",
        "        begin_span = '<span style=\"font-size: 0.8em; font-weight: bold; border-radius: 0.35em; vertical-align: middle; margin-left: 0.5rem\">'\n",
        "        end_span = '\\n</span>'\n",
        "        return f\"{begin_bkgr}{token}{begin_span}{token.pos_}{end_span}{end_bkgr}\"\n",
        "    if token.pos_ == \"PUNCT\":\n",
        "        return f\"{token.text}\"\n",
        "    return f\" {token.text}\"\n",
        "\n",
        "\n",
        "# This function loops over the text, passes each word to the \"markup\" function\n",
        "# and then displays them all together\n",
        "def visualize(tagged_text, tags = None):\n",
        "    start_div = f'<div class=\"entities\" style=\"line-height: 2.0; direction: ltr\">'\n",
        "    end_div = '\\n</div>'\n",
        "    html = start_div\n",
        "    for token in tagged_text:\n",
        "        html += mark_up(token, tags)\n",
        "    html += end_div\n",
        "    return HTML(html)\n",
        "\n",
        "visualize(tagged_text, [\"NOUN\", \"PROPN\"])"
      ]
    },
    {
      "cell_type": "markdown",
      "id": "53de5564-3c03-4a94-ac5f-16e7d2ad4b85",
      "metadata": {
        "id": "53de5564-3c03-4a94-ac5f-16e7d2ad4b85"
      },
      "source": [
        "## Histograms of Part Of Speech frequency"
      ]
    },
    {
      "cell_type": "markdown",
      "id": "567b3e3c-0fd7-45a6-809f-8dae1759b8ae",
      "metadata": {
        "id": "567b3e3c-0fd7-45a6-809f-8dae1759b8ae"
      },
      "source": [
        "To create plots in python we need a package called matplotlib.  We need to install this first."
      ]
    },
    {
      "cell_type": "code",
      "execution_count": 14,
      "id": "77edcd3e-1b19-455a-abc3-7da2d968ac06",
      "metadata": {
        "tags": [],
        "id": "77edcd3e-1b19-455a-abc3-7da2d968ac06",
        "outputId": "7cba7d7e-fa6f-4450-e99a-adf2fb24c65d",
        "colab": {
          "base_uri": "https://localhost:8080/"
        }
      },
      "outputs": [
        {
          "output_type": "stream",
          "name": "stdout",
          "text": [
            "Requirement already satisfied: matplotlib in /usr/local/lib/python3.11/dist-packages (3.10.0)\n",
            "Requirement already satisfied: contourpy>=1.0.1 in /usr/local/lib/python3.11/dist-packages (from matplotlib) (1.3.2)\n",
            "Requirement already satisfied: cycler>=0.10 in /usr/local/lib/python3.11/dist-packages (from matplotlib) (0.12.1)\n",
            "Requirement already satisfied: fonttools>=4.22.0 in /usr/local/lib/python3.11/dist-packages (from matplotlib) (4.58.4)\n",
            "Requirement already satisfied: kiwisolver>=1.3.1 in /usr/local/lib/python3.11/dist-packages (from matplotlib) (1.4.8)\n",
            "Requirement already satisfied: numpy>=1.23 in /usr/local/lib/python3.11/dist-packages (from matplotlib) (2.0.2)\n",
            "Requirement already satisfied: packaging>=20.0 in /usr/local/lib/python3.11/dist-packages (from matplotlib) (24.2)\n",
            "Requirement already satisfied: pillow>=8 in /usr/local/lib/python3.11/dist-packages (from matplotlib) (11.2.1)\n",
            "Requirement already satisfied: pyparsing>=2.3.1 in /usr/local/lib/python3.11/dist-packages (from matplotlib) (3.2.3)\n",
            "Requirement already satisfied: python-dateutil>=2.7 in /usr/local/lib/python3.11/dist-packages (from matplotlib) (2.9.0.post0)\n",
            "Requirement already satisfied: six>=1.5 in /usr/local/lib/python3.11/dist-packages (from python-dateutil>=2.7->matplotlib) (1.17.0)\n"
          ]
        }
      ],
      "source": [
        "# Install a pip package in the current Jupyter kernel\n",
        "import sys\n",
        "!{sys.executable} -m pip install matplotlib"
      ]
    },
    {
      "cell_type": "code",
      "execution_count": 15,
      "id": "fe69ff09-2652-40f2-a07c-effb3f8ae56f",
      "metadata": {
        "tags": [],
        "id": "fe69ff09-2652-40f2-a07c-effb3f8ae56f",
        "outputId": "efd4ba01-563b-48b3-8ac4-e1177b4d2a61",
        "colab": {
          "base_uri": "https://localhost:8080/",
          "height": 500
        }
      },
      "outputs": [
        {
          "output_type": "execute_result",
          "data": {
            "text/plain": [
              "<Axes: xlabel='POS'>"
            ]
          },
          "metadata": {},
          "execution_count": 15
        },
        {
          "output_type": "display_data",
          "data": {
            "text/plain": [
              "<Figure size 640x480 with 1 Axes>"
            ],
            "image/png": "[encoded data removed]"
          },
          "metadata": {}
        }
      ],
      "source": [
        "# we need to load in the plotting and dataframes library\n",
        "import matplotlib.pyplot as plt\n",
        "import pandas\n",
        "\n",
        "# create the plot\n",
        "data = df\n",
        "fig, ax = plt.subplots()\n",
        "\n",
        "# Extract the column we need, \"POS\", and count how many times each\n",
        "# POS appears, and normalise the values\n",
        "data['POS'].value_counts(normalize=True).plot(ax=ax, kind='bar')"
      ]
    },
    {
      "cell_type": "markdown",
      "id": "26b3eff8-cada-4c84-9b77-89961ea94a35",
      "metadata": {
        "id": "26b3eff8-cada-4c84-9b77-89961ea94a35"
      },
      "source": [
        "We can also do the same with the text and count how many times each word appears in the text"
      ]
    },
    {
      "cell_type": "code",
      "execution_count": 16,
      "id": "13cfe72d-d6ea-4178-b4a2-ce9529698f1e",
      "metadata": {
        "tags": [],
        "id": "13cfe72d-d6ea-4178-b4a2-ce9529698f1e",
        "outputId": "14e45adc-d4f0-427c-918d-71cf210a1948",
        "colab": {
          "base_uri": "https://localhost:8080/",
          "height": 556
        }
      },
      "outputs": [
        {
          "output_type": "execute_result",
          "data": {
            "text/plain": [
              "<Axes: xlabel='Text'>"
            ]
          },
          "metadata": {},
          "execution_count": 16
        },
        {
          "output_type": "display_data",
          "data": {
            "text/plain": [
              "<Figure size 640x480 with 1 Axes>"
            ],
            "image/png": "[encoded data removed]"
          },
          "metadata": {}
        }
      ],
      "source": [
        "\n",
        "# This time we need to limit the number of words displayed\n",
        "# otherwise the plot will have a long tail.\n",
        "# We use head(n=20) to display the top 20 words used.\n",
        "fig, ax = plt.subplots()\n",
        "df['Text'].str.lower().value_counts().head(n=20).plot(ax=ax, kind='bar')"
      ]
    },
    {
      "cell_type": "markdown",
      "id": "5c6625d3-e4c5-4237-8a2b-702f2d1fafc6",
      "metadata": {
        "id": "5c6625d3-e4c5-4237-8a2b-702f2d1fafc6"
      },
      "source": [
        "Unfortunatly punctuation is some of the highest usage.  If we do not want punctuation to be counted in the word\n",
        "count, we can exclude it as so:"
      ]
    },
    {
      "cell_type": "code",
      "execution_count": 17,
      "id": "d2a1a013-1363-44f3-9b02-2634657b3313",
      "metadata": {
        "tags": [],
        "id": "d2a1a013-1363-44f3-9b02-2634657b3313",
        "outputId": "2a839dd8-5fb6-4d6d-e44d-067354fa4053",
        "colab": {
          "base_uri": "https://localhost:8080/",
          "height": 556
        }
      },
      "outputs": [
        {
          "output_type": "execute_result",
          "data": {
            "text/plain": [
              "<Axes: xlabel='Text'>"
            ]
          },
          "metadata": {},
          "execution_count": 17
        },
        {
          "output_type": "display_data",
          "data": {
            "text/plain": [
              "<Figure size 640x480 with 1 Axes>"
            ],
            "image/png": "[encoded data removed]"
          },
          "metadata": {}
        }
      ],
      "source": [
        "fig, ax = plt.subplots()\n",
        "df.loc[df['POS']!='PUNCT', 'Text'].str.lower().value_counts().head(n=20).plot(ax=ax, kind='bar')"
      ]
    },
    {
      "cell_type": "markdown",
      "id": "d41bea8c",
      "metadata": {
        "id": "d41bea8c"
      },
      "source": [
        "We can also exclude a set/list of specified words that might not be of interest, e.g. `the`, `and`, etc sometimes called stop words:"
      ]
    },
    {
      "cell_type": "code",
      "execution_count": 18,
      "id": "59ad11e0",
      "metadata": {
        "id": "59ad11e0",
        "outputId": "6bc34d78-b673-4874-8b8c-19666f07856b",
        "colab": {
          "base_uri": "https://localhost:8080/",
          "height": 556
        }
      },
      "outputs": [
        {
          "output_type": "execute_result",
          "data": {
            "text/plain": [
              "<Axes: xlabel='Text'>"
            ]
          },
          "metadata": {},
          "execution_count": 18
        },
        {
          "output_type": "display_data",
          "data": {
            "text/plain": [
              "<Figure size 640x480 with 1 Axes>"
            ],
            "image/png": "[encoded data removed]"
          },
          "metadata": {}
        }
      ],
      "source": [
        "fig, ax = plt.subplots()\n",
        "excluded_words = set(['the', 'and', 'of', 'in', 'its', 'has'])\n",
        "df.loc[(df['POS']!='PUNCT') & (~df['Text'].str.lower().isin(excluded_words)), 'Text']\\\n",
        "    .str.lower().value_counts()\\\n",
        "    .head(n=20).plot(ax=ax, kind='bar')"
      ]
    },
    {
      "cell_type": "markdown",
      "id": "30250ef0-fe4e-47e3-9bc0-651d21b0c48c",
      "metadata": {
        "id": "30250ef0-fe4e-47e3-9bc0-651d21b0c48c"
      },
      "source": [
        "## Comparison of frequency\n",
        "\n",
        "One useful analysis is to compare the frequency of words apperances in two different texts.  To do this we will need to load in both sets (the new one is the wikipedia article on the river Danube).\n",
        "\n",
        "We will load in both texts, and pass them through the tagger, then we will save just the words and P.O.S. from each text."
      ]
    },
    {
      "cell_type": "code",
      "execution_count": 19,
      "id": "eb048f88-4fc9-41e7-b2b0-a7e7fdcf35f8",
      "metadata": {
        "tags": [],
        "id": "eb048f88-4fc9-41e7-b2b0-a7e7fdcf35f8",
        "outputId": "1a807b30-8732-4e06-e4a0-ee4cb7dcc9a5",
        "colab": {
          "base_uri": "https://localhost:8080/"
        }
      },
      "outputs": [
        {
          "output_type": "stream",
          "name": "stdout",
          "text": [
            "Cannot found the Danube text file, downloading the file\n",
            "Danube text file downloaded\n"
          ]
        }
      ],
      "source": [
        "import pandas as pd\n",
        "\n",
        "text = []\n",
        "pos = []\n",
        "\n",
        "with open('Nile.txt') as f:\n",
        "    contents = f.read()\n",
        "    output_doc = nlp(contents)\n",
        "    for token in output_doc:\n",
        "        text.append(token.text)\n",
        "        pos.append(token.pos_)\n",
        "\n",
        "nile_data = pd.DataFrame({'Text': text, 'POS': pos})\n",
        "\n",
        "\n",
        "text = []\n",
        "pos = []\n",
        "\n",
        "danube_file = Path('danube.txt')\n",
        "if not danube_file.exists():\n",
        "  print('Cannot found the Danube text file, downloading the file')\n",
        "  import requests\n",
        "  response = requests.get(\"https://raw.githubusercontent.com/UCREL/pymusas_notebook/refs/heads/main/danube.txt\")\n",
        "  with danube_file.open('w', encoding='utf-8') as danube_fp:\n",
        "    danube_fp.write(response.text)\n",
        "  print('Danube text file downloaded')\n",
        "\n",
        "with open('danube.txt') as f:\n",
        "    contents = f.read()\n",
        "    output_doc = nlp(contents)\n",
        "    for token in output_doc:\n",
        "        text.append(token.text)\n",
        "        pos.append(token.pos_)\n",
        "\n",
        "danube_data = pd.DataFrame({'Text': text, 'POS': pos})\n"
      ]
    },
    {
      "cell_type": "markdown",
      "id": "3ecaeba9-4420-408d-bd4e-ec11c4319b24",
      "metadata": {
        "id": "3ecaeba9-4420-408d-bd4e-ec11c4319b24"
      },
      "source": [
        "Now we need to clean up the text.  We will place a filter on the dataframe to exclude any row where the POS column is either 'PUNCT' or 'SPACE' to remove white space and punctuation.   Then we will ensure all text is lower case and count how many occurances of each type there are."
      ]
    },
    {
      "cell_type": "code",
      "execution_count": 20,
      "id": "ee470876-98c0-4f8b-a555-4e2304f528b9",
      "metadata": {
        "tags": [],
        "id": "ee470876-98c0-4f8b-a555-4e2304f528b9"
      },
      "outputs": [],
      "source": [
        "nile_data_cleaned = nile_data.loc[(nile_data['POS']!='PUNCT') & (nile_data['POS'] != 'SPACE'), 'Text'].str.lower().value_counts()\n",
        "\n",
        "danube_data_cleaned = danube_data.loc[(danube_data['POS']!='PUNCT') & (danube_data['POS']!='SPACE'), 'Text'].str.lower().value_counts()"
      ]
    },
    {
      "cell_type": "markdown",
      "id": "b2f199e4-a09d-49ac-9ed6-0e12b80a2b8a",
      "metadata": {
        "id": "b2f199e4-a09d-49ac-9ed6-0e12b80a2b8a"
      },
      "source": [
        "Now we need to combine the datasets and keep only entries where the word occurs in both text.  We then limit this to the top 20 words."
      ]
    },
    {
      "cell_type": "code",
      "execution_count": 21,
      "id": "bd1318cd-125b-44e8-92ba-d5cf3644a44a",
      "metadata": {
        "tags": [],
        "id": "bd1318cd-125b-44e8-92ba-d5cf3644a44a",
        "outputId": "fb78e879-d810-48c2-fb9b-1237ab738adf",
        "colab": {
          "base_uri": "https://localhost:8080/",
          "height": 472
        }
      },
      "outputs": [
        {
          "output_type": "display_data",
          "data": {
            "text/plain": [
              "<Figure size 640x480 with 1 Axes>"
            ],
            "image/png": "[encoded data removed]"
          },
          "metadata": {}
        }
      ],
      "source": [
        "comparison = pd.concat([nile_data_cleaned, danube_data_cleaned], axis=1, join = \"inner\").head(n=20)\n",
        "\n",
        "comparison.columns = ['Nile', 'Danube']\n",
        "\n",
        "import numpy as np\n",
        "import matplotlib.pyplot as plt\n",
        "\n",
        "plt.barh(comparison.index[::-1], comparison[\"Nile\"][::-1], align='center', color = 'y', label=\"Nile\")\n",
        "plt.barh(comparison.index[::-1], -comparison[\"Danube\"][::-1], align='center', color = 'c', label=\"Danube\")\n",
        "plt.title(\"Comparison\")\n",
        "plt.ylabel(\"Counts\")\n",
        "plt.xlabel(\"Tokens\")\n",
        "plt.legend()\n",
        "plt.show()\n",
        "\n",
        "\n"
      ]
    },
    {
      "cell_type": "markdown",
      "id": "f2a91d28",
      "metadata": {
        "id": "f2a91d28"
      },
      "source": [
        "In the comparison bar graph above we can see that the word `of` and `the` appear more often in the Nile text than the Danube text, in the Nile text `of` and `the` appear about 20 and 40 times whereas in the Danube text they appear about 10 and 20 times respectively."
      ]
    },
    {
      "cell_type": "markdown",
      "id": "f591b823-ceab-4988-b261-9ec23380f25b",
      "metadata": {
        "id": "f591b823-ceab-4988-b261-9ec23380f25b"
      },
      "source": [
        "## Keyness value\n",
        "\n",
        "The comparison above is great to see a quick overview of the difference between the two texts. In this section we want to find which words are \"key\" words whereby they are used more in one text than the other, to do this we are going to calculate the [log-likelihood](https://ucrel.lancs.ac.uk/llwizard.html) (see [Rayson, P. and Garside, R. (2000)](https://ucrel.lancs.ac.uk/people/paul/publications/rg_acl2000.pdf) on the use of comparing corpora using log-likelihood with the USAS semantic tags) of each word to get the words keyness value. For clarity we are going to use the `Nile` text as the `research/target text` and the `Danube` text as the `reference/normative text`. To **note** that you would normally use a larger corpus/text as the reference text, e.g. BNC or a word frequency list from a large representative corpus."
      ]
    },
    {
      "cell_type": "code",
      "execution_count": 22,
      "id": "6fbd4b67-d211-4ecc-9a81-6e51b41e7acd",
      "metadata": {
        "tags": [],
        "id": "6fbd4b67-d211-4ecc-9a81-6e51b41e7acd"
      },
      "outputs": [],
      "source": [
        "import math\n",
        "\n",
        "def keyness(a, b, c, d):\n",
        "    E1 = c * (a + b) / (c + d)\n",
        "    E2 = d * (a + b) / (c + d)\n",
        "    G2 = 2 * ( (a*math.log(a/E1) ) + (b * math.log(b/E2)) )\n",
        "    return G2\n",
        "\n",
        "danube_total = danube_data_cleaned.sum()\n",
        "nile_total = nile_data_cleaned.sum()\n",
        "\n",
        "under_over = {True: 'Over', False: 'Under'}\n",
        "\n",
        "comparison[\"keyness\"] = comparison.apply(lambda x: keyness(x[\"Nile\"], x[\"Danube\"], nile_total, danube_total), axis=1)\n",
        "comparison[\"use\"] = comparison.apply(lambda x: under_over[x[\"Nile\"] > x[\"Danube\"]], axis=1)"
      ]
    },
    {
      "cell_type": "markdown",
      "id": "60c75422",
      "metadata": {
        "id": "60c75422"
      },
      "source": [
        "Below we can see the tokens ordered by keyness value, if the keyness value is high it indicates the token is either used more or a less in the `research text` (Nile text in this case) than the `reference text` (Danube text in this case) in essence the higher the keyness value of the token use is more different and therefore interesting to investigate. We have added to the table below the column `use` to indicate if the token is `over` used or `under` used."
      ]
    },
    {
      "cell_type": "code",
      "execution_count": 23,
      "id": "6b541b6b",
      "metadata": {
        "id": "6b541b6b",
        "outputId": "91614ea9-f295-42bb-bc10-b42a0a9199b4",
        "colab": {
          "base_uri": "https://localhost:8080/",
          "height": 708
        }
      },
      "outputs": [
        {
          "output_type": "execute_result",
          "data": {
            "text/plain": [
              "         Nile  Danube   keyness    use\n",
              "Text                                  \n",
              "the        46      22  4.157371   Over\n",
              "of         18       7  2.871796   Over\n",
              "water       5       1  2.095473   Over\n",
              "to          2       4  1.198436  Under\n",
              "is         10       5  0.772092   Over\n",
              "flows       5       2  0.747467   Over\n",
              "has         3       1  0.651057   Over\n",
              "north       3       1  0.651057   Over\n",
              "it          2       3  0.485455  Under\n",
              "through     2       3  0.485455  Under\n",
              "its         3       4  0.452127  Under\n",
              "at          4       2  0.308837   Over\n",
              "and        18      12  0.243933   Over\n",
              "in          7       7  0.172760  Under\n",
              "been        2       1  0.154418   Over\n",
              "by          2       1  0.154418   Over\n",
              "sea         2       2  0.049360  Under\n",
              "longest     2       2  0.049360  Under\n",
              "into        3       2  0.040655   Over\n",
              "river       9       7  0.003296   Over"
            ],
            "text/html": [
              "\n",
              "  <div id=\"df-56257969-07f8-4127-b9b2-c38f644103a0\" class=\"colab-df-container\">\n",
              "    <div>\n",
              "<style scoped>\n",
              "    .dataframe tbody tr th:only-of-type {\n",
              "        vertical-align: middle;\n",
              "    }\n",
              "\n",
              "    .dataframe tbody tr th {\n",
              "        vertical-align: top;\n",
              "    }\n",
              "\n",
              "    .dataframe thead th {\n",
              "        text-align: right;\n",
              "    }\n",
              "</style>\n",
              "<table border=\"1\" class=\"dataframe\">\n",
              "  <thead>\n",
              "    <tr style=\"text-align: right;\">\n",
              "      <th></th>\n",
              "      <th>Nile</th>\n",
              "      <th>Danube</th>\n",
              "      <th>keyness</th>\n",
              "      <th>use</th>\n",
              "    </tr>\n",
              "    <tr>\n",
              "      <th>Text</th>\n",
              "      <th></th>\n",
              "      <th></th>\n",
              "      <th></th>\n",
              "      <th></th>\n",
              "    </tr>\n",
              "  </thead>\n",
              "  <tbody>\n",
              "    <tr>\n",
              "      <th>the</th>\n",
              "      <td>46</td>\n",
              "      <td>22</td>\n",
              "      <td>4.157371</td>\n",
              "      <td>Over</td>\n",
              "    </tr>\n",
              "    <tr>\n",
              "      <th>of</th>\n",
              "      <td>18</td>\n",
              "      <td>7</td>\n",
              "      <td>2.871796</td>\n",
              "      <td>Over</td>\n",
              "    </tr>\n",
              "    <tr>\n",
              "      <th>water</th>\n",
              "      <td>5</td>\n",
              "      <td>1</td>\n",
              "      <td>2.095473</td>\n",
              "      <td>Over</td>\n",
              "    </tr>\n",
              "    <tr>\n",
              "      <th>to</th>\n",
              "      <td>2</td>\n",
              "      <td>4</td>\n",
              "      <td>1.198436</td>\n",
              "      <td>Under</td>\n",
              "    </tr>\n",
              "    <tr>\n",
              "      <th>is</th>\n",
              "      <td>10</td>\n",
              "      <td>5</td>\n",
              "      <td>0.772092</td>\n",
              "      <td>Over</td>\n",
              "    </tr>\n",
              "    <tr>\n",
              "      <th>flows</th>\n",
              "      <td>5</td>\n",
              "      <td>2</td>\n",
              "      <td>0.747467</td>\n",
              "      <td>Over</td>\n",
              "    </tr>\n",
              "    <tr>\n",
              "      <th>has</th>\n",
              "      <td>3</td>\n",
              "      <td>1</td>\n",
              "      <td>0.651057</td>\n",
              "      <td>Over</td>\n",
              "    </tr>\n",
              "    <tr>\n",
              "      <th>north</th>\n",
              "      <td>3</td>\n",
              "      <td>1</td>\n",
              "      <td>0.651057</td>\n",
              "      <td>Over</td>\n",
              "    </tr>\n",
              "    <tr>\n",
              "      <th>it</th>\n",
              "      <td>2</td>\n",
              "      <td>3</td>\n",
              "      <td>0.485455</td>\n",
              "      <td>Under</td>\n",
              "    </tr>\n",
              "    <tr>\n",
              "      <th>through</th>\n",
              "      <td>2</td>\n",
              "      <td>3</td>\n",
              "      <td>0.485455</td>\n",
              "      <td>Under</td>\n",
              "    </tr>\n",
              "    <tr>\n",
              "      <th>its</th>\n",
              "      <td>3</td>\n",
              "      <td>4</td>\n",
              "      <td>0.452127</td>\n",
              "      <td>Under</td>\n",
              "    </tr>\n",
              "    <tr>\n",
              "      <th>at</th>\n",
              "      <td>4</td>\n",
              "      <td>2</td>\n",
              "      <td>0.308837</td>\n",
              "      <td>Over</td>\n",
              "    </tr>\n",
              "    <tr>\n",
              "      <th>and</th>\n",
              "      <td>18</td>\n",
              "      <td>12</td>\n",
              "      <td>0.243933</td>\n",
              "      <td>Over</td>\n",
              "    </tr>\n",
              "    <tr>\n",
              "      <th>in</th>\n",
              "      <td>7</td>\n",
              "      <td>7</td>\n",
              "      <td>0.172760</td>\n",
              "      <td>Under</td>\n",
              "    </tr>\n",
              "    <tr>\n",
              "      <th>been</th>\n",
              "      <td>2</td>\n",
              "      <td>1</td>\n",
              "      <td>0.154418</td>\n",
              "      <td>Over</td>\n",
              "    </tr>\n",
              "    <tr>\n",
              "      <th>by</th>\n",
              "      <td>2</td>\n",
              "      <td>1</td>\n",
              "      <td>0.154418</td>\n",
              "      <td>Over</td>\n",
              "    </tr>\n",
              "    <tr>\n",
              "      <th>sea</th>\n",
              "      <td>2</td>\n",
              "      <td>2</td>\n",
              "      <td>0.049360</td>\n",
              "      <td>Under</td>\n",
              "    </tr>\n",
              "    <tr>\n",
              "      <th>longest</th>\n",
              "      <td>2</td>\n",
              "      <td>2</td>\n",
              "      <td>0.049360</td>\n",
              "      <td>Under</td>\n",
              "    </tr>\n",
              "    <tr>\n",
              "      <th>into</th>\n",
              "      <td>3</td>\n",
              "      <td>2</td>\n",
              "      <td>0.040655</td>\n",
              "      <td>Over</td>\n",
              "    </tr>\n",
              "    <tr>\n",
              "      <th>river</th>\n",
              "      <td>9</td>\n",
              "      <td>7</td>\n",
              "      <td>0.003296</td>\n",
              "      <td>Over</td>\n",
              "    </tr>\n",
              "  </tbody>\n",
              "</table>\n",
              "</div>\n",
              "    <div class=\"colab-df-buttons\">\n",
              "\n",
              "  <div class=\"colab-df-container\">\n",
              "    <button class=\"colab-df-convert\" onclick=\"convertToInteractive('df-56257969-07f8-4127-b9b2-c38f644103a0')\"\n",
              "            title=\"Convert this dataframe to an interactive table.\"\n",
              "            style=\"display:none;\">\n",
              "\n",
              "  <svg xmlns=\"http://www.w3.org/2000/svg\" height=\"24px\" viewBox=\"0 -960 960 960\">\n",
              "    <path d=\"M120-120v-720h720v720H120Zm60-500h600v-160H180v160Zm220 220h160v-160H400v160Zm0 220h160v-160H400v160ZM180-400h160v-160H180v160Zm440 0h160v-160H620v160ZM180-180h160v-160H180v160Zm440 0h160v-160H620v160Z\"/>\n",
              "  </svg>\n",
              "    </button>\n",
              "\n",
              "  <style>\n",
              "    .colab-df-container {\n",
              "      display:flex;\n",
              "      gap: 12px;\n",
              "    }\n",
              "\n",
              "    .colab-df-convert {\n",
              "      background-color: #E8F0FE;\n",
              "      border: none;\n",
              "      border-radius: 50%;\n",
              "      cursor: pointer;\n",
              "      display: none;\n",
              "      fill: #1967D2;\n",
              "      height: 32px;\n",
              "      padding: 0 0 0 0;\n",
              "      width: 32px;\n",
              "    }\n",
              "\n",
              "    .colab-df-convert:hover {\n",
              "      background-color: #E2EBFA;\n",
              "      box-shadow: 0px 1px 2px rgba(60, 64, 67, 0.3), 0px 1px 3px 1px rgba(60, 64, 67, 0.15);\n",
              "      fill: #174EA6;\n",
              "    }\n",
              "\n",
              "    .colab-df-buttons div {\n",
              "      margin-bottom: 4px;\n",
              "    }\n",
              "\n",
              "    [theme=dark] .colab-df-convert {\n",
              "      background-color: #3B4455;\n",
              "      fill: #D2E3FC;\n",
              "    }\n",
              "\n",
              "    [theme=dark] .colab-df-convert:hover {\n",
              "      background-color: #434B5C;\n",
              "      box-shadow: 0px 1px 3px 1px rgba(0, 0, 0, 0.15);\n",
              "      filter: drop-shadow(0px 1px 2px rgba(0, 0, 0, 0.3));\n",
              "      fill: #FFFFFF;\n",
              "    }\n",
              "  </style>\n",
              "\n",
              "    <script>\n",
              "      const buttonEl =\n",
              "        document.querySelector('#df-56257969-07f8-4127-b9b2-c38f644103a0 button.colab-df-convert');\n",
              "      buttonEl.style.display =\n",
              "        google.colab.kernel.accessAllowed ? 'block' : 'none';\n",
              "\n",
              "      async function convertToInteractive(key) {\n",
              "        const element = document.querySelector('#df-56257969-07f8-4127-b9b2-c38f644103a0');\n",
              "        const dataTable =\n",
              "          await google.colab.kernel.invokeFunction('convertToInteractive',\n",
              "                                                    [key], {});\n",
              "        if (!dataTable) return;\n",
              "\n",
              "        const docLinkHtml = 'Like what you see? Visit the ' +\n",
              "          '<a target=\"_blank\" href=https://colab.research.google.com/notebooks/data_table.ipynb>data table notebook</a>'\n",
              "          + ' to learn more about interactive tables.';\n",
              "        element.innerHTML = '';\n",
              "        dataTable['output_type'] = 'display_data';\n",
              "        await google.colab.output.renderOutput(dataTable, element);\n",
              "        const docLink = document.createElement('div');\n",
              "        docLink.innerHTML = docLinkHtml;\n",
              "        element.appendChild(docLink);\n",
              "      }\n",
              "    </script>\n",
              "  </div>\n",
              "\n",
              "\n",
              "    <div id=\"df-bd665d45-8852-498b-b647-12b26cad5ffa\">\n",
              "      <button class=\"colab-df-quickchart\" onclick=\"quickchart('df-bd665d45-8852-498b-b647-12b26cad5ffa')\"\n",
              "                title=\"Suggest charts\"\n",
              "                style=\"display:none;\">\n",
              "\n",
              "<svg xmlns=\"http://www.w3.org/2000/svg\" height=\"24px\"viewBox=\"0 0 24 24\"\n",
              "     width=\"24px\">\n",
              "    <g>\n",
              "        <path d=\"M19 3H5c-1.1 0-2 .9-2 2v14c0 1.1.9 2 2 2h14c1.1 0 2-.9 2-2V5c0-1.1-.9-2-2-2zM9 17H7v-7h2v7zm4 0h-2V7h2v10zm4 0h-2v-4h2v4z\"/>\n",
              "    </g>\n",
              "</svg>\n",
              "      </button>\n",
              "\n",
              "<style>\n",
              "  .colab-df-quickchart {\n",
              "      --bg-color: #E8F0FE;\n",
              "      --fill-color: #1967D2;\n",
              "      --hover-bg-color: #E2EBFA;\n",
              "      --hover-fill-color: #174EA6;\n",
              "      --disabled-fill-color: #AAA;\n",
              "      --disabled-bg-color: #DDD;\n",
              "  }\n",
              "\n",
              "  [theme=dark] .colab-df-quickchart {\n",
              "      --bg-color: #3B4455;\n",
              "      --fill-color: #D2E3FC;\n",
              "      --hover-bg-color: #434B5C;\n",
              "      --hover-fill-color: #FFFFFF;\n",
              "      --disabled-bg-color: #3B4455;\n",
              "      --disabled-fill-color: #666;\n",
              "  }\n",
              "\n",
              "  .colab-df-quickchart {\n",
              "    background-color: var(--bg-color);\n",
              "    border: none;\n",
              "    border-radius: 50%;\n",
              "    cursor: pointer;\n",
              "    display: none;\n",
              "    fill: var(--fill-color);\n",
              "    height: 32px;\n",
              "    padding: 0;\n",
              "    width: 32px;\n",
              "  }\n",
              "\n",
              "  .colab-df-quickchart:hover {\n",
              "    background-color: var(--hover-bg-color);\n",
              "    box-shadow: 0 1px 2px rgba(60, 64, 67, 0.3), 0 1px 3px 1px rgba(60, 64, 67, 0.15);\n",
              "    fill: var(--button-hover-fill-color);\n",
              "  }\n",
              "\n",
              "  .colab-df-quickchart-complete:disabled,\n",
              "  .colab-df-quickchart-complete:disabled:hover {\n",
              "    background-color: var(--disabled-bg-color);\n",
              "    fill: var(--disabled-fill-color);\n",
              "    box-shadow: none;\n",
              "  }\n",
              "\n",
              "  .colab-df-spinner {\n",
              "    border: 2px solid var(--fill-color);\n",
              "    border-color: transparent;\n",
              "    border-bottom-color: var(--fill-color);\n",
              "    animation:\n",
              "      spin 1s steps(1) infinite;\n",
              "  }\n",
              "\n",
              "  @keyframes spin {\n",
              "    0% {\n",
              "      border-color: transparent;\n",
              "      border-bottom-color: var(--fill-color);\n",
              "      border-left-color: var(--fill-color);\n",
              "    }\n",
              "    20% {\n",
              "      border-color: transparent;\n",
              "      border-left-color: var(--fill-color);\n",
              "      border-top-color: var(--fill-color);\n",
              "    }\n",
              "    30% {\n",
              "      border-color: transparent;\n",
              "      border-left-color: var(--fill-color);\n",
              "      border-top-color: var(--fill-color);\n",
              "      border-right-color: var(--fill-color);\n",
              "    }\n",
              "    40% {\n",
              "      border-color: transparent;\n",
              "      border-right-color: var(--fill-color);\n",
              "      border-top-color: var(--fill-color);\n",
              "    }\n",
              "    60% {\n",
              "      border-color: transparent;\n",
              "      border-right-color: var(--fill-color);\n",
              "    }\n",
              "    80% {\n",
              "      border-color: transparent;\n",
              "      border-right-color: var(--fill-color);\n",
              "      border-bottom-color: var(--fill-color);\n",
              "    }\n",
              "    90% {\n",
              "      border-color: transparent;\n",
              "      border-bottom-color: var(--fill-color);\n",
              "    }\n",
              "  }\n",
              "</style>\n",
              "\n",
              "      <script>\n",
              "        async function quickchart(key) {\n",
              "          const quickchartButtonEl =\n",
              "            document.querySelector('#' + key + ' button');\n",
              "          quickchartButtonEl.disabled = true;  // To prevent multiple clicks.\n",
              "          quickchartButtonEl.classList.add('colab-df-spinner');\n",
              "          try {\n",
              "            const charts = await google.colab.kernel.invokeFunction(\n",
              "                'suggestCharts', [key], {});\n",
              "          } catch (error) {\n",
              "            console.error('Error during call to suggestCharts:', error);\n",
              "          }\n",
              "          quickchartButtonEl.classList.remove('colab-df-spinner');\n",
              "          quickchartButtonEl.classList.add('colab-df-quickchart-complete');\n",
              "        }\n",
              "        (() => {\n",
              "          let quickchartButtonEl =\n",
              "            document.querySelector('#df-bd665d45-8852-498b-b647-12b26cad5ffa button');\n",
              "          quickchartButtonEl.style.display =\n",
              "            google.colab.kernel.accessAllowed ? 'block' : 'none';\n",
              "        })();\n",
              "      </script>\n",
              "    </div>\n",
              "\n",
              "    </div>\n",
              "  </div>\n"
            ],
            "application/vnd.google.colaboratory.intrinsic+json": {
              "type": "dataframe",
              "summary": "{\n  \"name\": \"comparison\",\n  \"rows\": 20,\n  \"fields\": [\n    {\n      \"column\": \"Text\",\n      \"properties\": {\n        \"dtype\": \"string\",\n        \"num_unique_values\": 20,\n        \"samples\": [\n          \"the\",\n          \"longest\",\n          \"by\"\n        ],\n        \"semantic_type\": \"\",\n        \"description\": \"\"\n      }\n    },\n    {\n      \"column\": \"Nile\",\n      \"properties\": {\n        \"dtype\": \"number\",\n        \"std\": 10,\n        \"min\": 2,\n        \"max\": 46,\n        \"num_unique_values\": 9,\n        \"samples\": [\n          7,\n          18,\n          3\n        ],\n        \"semantic_type\": \"\",\n        \"description\": \"\"\n      }\n    },\n    {\n      \"column\": \"Danube\",\n      \"properties\": {\n        \"dtype\": \"number\",\n        \"std\": 5,\n        \"min\": 1,\n        \"max\": 22,\n        \"num_unique_values\": 8,\n        \"samples\": [\n          7,\n          2,\n          22\n        ],\n        \"semantic_type\": \"\",\n        \"description\": \"\"\n      }\n    },\n    {\n      \"column\": \"keyness\",\n      \"properties\": {\n        \"dtype\": \"number\",\n        \"std\": 1.0731292450820065,\n        \"min\": 0.0032958303768378105,\n        \"max\": 4.157371393910834,\n        \"num_unique_values\": 16,\n        \"samples\": [\n          4.157371393910834,\n          2.871795956067251,\n          0.7474670541987798\n        ],\n        \"semantic_type\": \"\",\n        \"description\": \"\"\n      }\n    },\n    {\n      \"column\": \"use\",\n      \"properties\": {\n        \"dtype\": \"category\",\n        \"num_unique_values\": 2,\n        \"samples\": [\n          \"Under\",\n          \"Over\"\n        ],\n        \"semantic_type\": \"\",\n        \"description\": \"\"\n      }\n    }\n  ]\n}"
            }
          },
          "metadata": {},
          "execution_count": 23
        }
      ],
      "source": [
        "comparison.sort_values(by='keyness', ascending=False)"
      ]
    },
    {
      "cell_type": "markdown",
      "id": "e0a8f263",
      "metadata": {
        "id": "e0a8f263"
      },
      "source": [
        "We can then generate a word cloud of the over used tokens whereby the token text size is based off it's keyness value like so:"
      ]
    },
    {
      "cell_type": "code",
      "execution_count": 24,
      "id": "92f5d5a9-a722-41a1-ab0b-128d2061e90e",
      "metadata": {
        "tags": [],
        "id": "92f5d5a9-a722-41a1-ab0b-128d2061e90e",
        "outputId": "6d41a5c8-e85f-44be-c587-9a0db474cb7d",
        "colab": {
          "base_uri": "https://localhost:8080/"
        }
      },
      "outputs": [
        {
          "output_type": "stream",
          "name": "stdout",
          "text": [
            "Requirement already satisfied: wordcloud in /usr/local/lib/python3.11/dist-packages (1.9.4)\n",
            "Requirement already satisfied: numpy>=1.6.1 in /usr/local/lib/python3.11/dist-packages (from wordcloud) (2.0.2)\n",
            "Requirement already satisfied: pillow in /usr/local/lib/python3.11/dist-packages (from wordcloud) (11.2.1)\n",
            "Requirement already satisfied: matplotlib in /usr/local/lib/python3.11/dist-packages (from wordcloud) (3.10.0)\n",
            "Requirement already satisfied: contourpy>=1.0.1 in /usr/local/lib/python3.11/dist-packages (from matplotlib->wordcloud) (1.3.2)\n",
            "Requirement already satisfied: cycler>=0.10 in /usr/local/lib/python3.11/dist-packages (from matplotlib->wordcloud) (0.12.1)\n",
            "Requirement already satisfied: fonttools>=4.22.0 in /usr/local/lib/python3.11/dist-packages (from matplotlib->wordcloud) (4.58.4)\n",
            "Requirement already satisfied: kiwisolver>=1.3.1 in /usr/local/lib/python3.11/dist-packages (from matplotlib->wordcloud) (1.4.8)\n",
            "Requirement already satisfied: packaging>=20.0 in /usr/local/lib/python3.11/dist-packages (from matplotlib->wordcloud) (24.2)\n",
            "Requirement already satisfied: pyparsing>=2.3.1 in /usr/local/lib/python3.11/dist-packages (from matplotlib->wordcloud) (3.2.3)\n",
            "Requirement already satisfied: python-dateutil>=2.7 in /usr/local/lib/python3.11/dist-packages (from matplotlib->wordcloud) (2.9.0.post0)\n",
            "Requirement already satisfied: six>=1.5 in /usr/local/lib/python3.11/dist-packages (from python-dateutil>=2.7->matplotlib->wordcloud) (1.17.0)\n"
          ]
        }
      ],
      "source": [
        "# Install a pip package in the current Jupyter kernel\n",
        "import sys\n",
        "!{sys.executable} -m pip install wordcloud\n",
        "from wordcloud import WordCloud"
      ]
    },
    {
      "cell_type": "code",
      "execution_count": 25,
      "id": "b32b444e-9bc8-479d-a361-d586600a33d2",
      "metadata": {
        "tags": [],
        "id": "b32b444e-9bc8-479d-a361-d586600a33d2",
        "outputId": "67ee2035-d79c-46b7-a281-dface4fe0080",
        "colab": {
          "base_uri": "https://localhost:8080/",
          "height": 285
        }
      },
      "outputs": [
        {
          "output_type": "display_data",
          "data": {
            "text/plain": [
              "<Figure size 640x480 with 1 Axes>"
            ],
            "image/png": "[encoded data removed]"
          },
          "metadata": {}
        }
      ],
      "source": [
        "wordcloud = WordCloud(background_color=\"white\").generate_from_frequencies(comparison.loc[comparison['use']=='Over'][\"keyness\"])\n",
        "plt.imshow(wordcloud, interpolation='bilinear')\n",
        "plt.axis(\"off\")\n",
        "plt.show()"
      ]
    },
    {
      "cell_type": "code",
      "execution_count": 25,
      "id": "6eb53e7d",
      "metadata": {
        "id": "6eb53e7d"
      },
      "outputs": [],
      "source": []
    }
  ],
  "metadata": {
    "kernelspec": {
      "display_name": "Python 3",
      "language": "python",
      "name": "python3"
    },
    "language_info": {
      "codemirror_mode": {
        "name": "ipython",
        "version": 3
      },
      "file_extension": ".py",
      "mimetype": "text/x-python",
      "name": "python",
      "nbconvert_exporter": "python",
      "pygments_lexer": "ipython3",
      "version": "3.10.16"
    },
    "colab": {
      "provenance": []
    }
  },
  "nbformat": 4,
  "nbformat_minor": 5
}